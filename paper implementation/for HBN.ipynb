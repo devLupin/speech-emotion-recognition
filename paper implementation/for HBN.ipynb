{
 "cells": [
  {
   "cell_type": "code",
   "execution_count": 1,
   "metadata": {},
   "outputs": [],
   "source": [
    "import librosa\n",
    "import librosa.display as librosa_display\n",
    "import matplotlib.pyplot as plt\n",
    "import numpy as np\n",
    "from tqdm import tqdm\n",
    "from pathlib import Path\n",
    "import pandas as pd\n",
    "import os\n",
    "import time\n",
    "from torchaudio.functional import compute_deltas\n",
    "import torch\n",
    "from sklearn.cluster import KMeans"
   ]
  },
  {
   "cell_type": "code",
   "execution_count": 2,
   "metadata": {},
   "outputs": [],
   "source": [
    "def prepare_RAVDESS_DS(path_audios):\n",
    "    wav_paths, emotions, actors = [], [], []\n",
    "    for path in tqdm(Path(path_audios).glob(\"*/*.wav\")):\n",
    "        name = str(path).split('/')[-1].split('.')[0]\n",
    "        label = int(name.split(\"-\")[2]) - 1  # Start emotions in 0\n",
    "        actor = int(name.split(\"-\")[-1])\n",
    "\n",
    "        try:\n",
    "            wav_paths.append(path)\n",
    "            emotions.append(label)\n",
    "            actors.append(actor)\n",
    "        except Exception as e:\n",
    "            # print(str(path), e)\n",
    "            pass\n",
    "        \n",
    "    return wav_paths, emotions, actors"
   ]
  },
  {
   "cell_type": "code",
   "execution_count": 3,
   "metadata": {},
   "outputs": [
    {
     "name": "stderr",
     "output_type": "stream",
     "text": [
      "1440it [00:00, 48161.18it/s]\n"
     ]
    }
   ],
   "source": [
    "wav_paths, emotions, actors = prepare_RAVDESS_DS('dataset')"
   ]
  },
  {
   "cell_type": "code",
   "execution_count": 4,
   "metadata": {},
   "outputs": [],
   "source": [
    "sample_rate = 16000\n",
    "\n",
    "frame_length = 0.025\n",
    "frame_stride = 0.010\n",
    "\n",
    "def scaled(li, min_v=-1, max_v=1):\n",
    "    ret = [(x%(max_v-min_v+1)+min_v) for x in li]\n",
    "    return np.array(ret)"
   ]
  },
  {
   "cell_type": "code",
   "execution_count": 5,
   "metadata": {},
   "outputs": [],
   "source": [
    "def clustering(x, n_clusters=4):\n",
    "\n",
    "    kmeans = KMeans(n_clusters=n_clusters, random_state=2022)\n",
    "    kmeans.fit(x)\n",
    "    result = kmeans.predict(x)\n",
    "    predict = pd.DataFrame(result)\n",
    "    predict.columns = ['predict']\n",
    "    cluster_center = kmeans.cluster_centers_\n",
    "    \n",
    "    return result, cluster_center\n",
    "\n",
    "def cal_dist(x, predict, cluster_center):\n",
    "    ret = []\n",
    "    \n",
    "    for i, _ in enumerate(x):\n",
    "        dist = np.linalg.norm(x[i] - cluster_center[predict[i]])\n",
    "        ret.append(dist)\n",
    "        \n",
    "    return ret"
   ]
  },
  {
   "cell_type": "code",
   "execution_count": 6,
   "metadata": {},
   "outputs": [],
   "source": [
    "def get_boaw(paths):\n",
    "    ret = []\n",
    "    \n",
    "    for _, path, in tqdm(enumerate(paths), desc='get features, size.....'):\n",
    "        y = librosa.load(path, sr=sample_rate)[0]\n",
    "        \n",
    "        feature = np.zeros(50000)\n",
    "        if(len(y) >= 60000):\n",
    "            feature = y[10000:60000]\n",
    "        else:\n",
    "            a = y[10000:]\n",
    "            feature[:len(a)] = a\n",
    "        \n",
    "        li = []\n",
    "        for i, a in enumerate(feature):\n",
    "            li.append([i, a])\n",
    "        \n",
    "        for_boaw = pd.DataFrame(li)\n",
    "        pred, cluster_center = clustering(for_boaw)\n",
    "        d = np.array(li)\n",
    "        boaw = cal_dist(d, pred, cluster_center)\n",
    "        \n",
    "        ret.append(boaw)\n",
    "    return np.array(ret)"
   ]
  },
  {
   "cell_type": "code",
   "execution_count": 7,
   "metadata": {},
   "outputs": [
    {
     "name": "stderr",
     "output_type": "stream",
     "text": [
      "get features, size.....: 1440it [12:33,  1.91it/s]\n"
     ]
    }
   ],
   "source": [
    "boaw = get_boaw(wav_paths)"
   ]
  },
  {
   "cell_type": "code",
   "execution_count": 8,
   "metadata": {},
   "outputs": [],
   "source": [
    "def get_features(paths):\n",
    "    data = []\n",
    "    sz = []\n",
    "    for _, path, in tqdm(enumerate(paths), desc='get features, size.....'):\n",
    "        y = librosa.load(path, sr=sample_rate)[0]\n",
    "        \n",
    "        input_nfft = int(round(sample_rate*frame_length))\n",
    "        input_stride = int(round(sample_rate*frame_stride))\n",
    "        \n",
    "        S = librosa.feature.melspectrogram(y=y, sr=sample_rate, n_mels=128, n_fft=input_nfft, window='hamming', hop_length=input_stride)\n",
    "        log_S = librosa.power_to_db(S, ref=np.max)\n",
    "        mfcc = librosa.feature.mfcc(S=log_S, n_mfcc=26)\n",
    "        \n",
    "        data.append(mfcc)\n",
    "        sz.append(mfcc.shape[1])\n",
    "        \n",
    "    return data, sz"
   ]
  },
  {
   "cell_type": "code",
   "execution_count": 9,
   "metadata": {},
   "outputs": [
    {
     "name": "stderr",
     "output_type": "stream",
     "text": [
      "get features, size.....: 1440it [01:20, 17.81it/s]\n"
     ]
    }
   ],
   "source": [
    "features, sz = get_features(wav_paths)"
   ]
  },
  {
   "cell_type": "code",
   "execution_count": 10,
   "metadata": {},
   "outputs": [],
   "source": [
    "def make_mfcc(features, sz):\n",
    "    ret = []\n",
    "    \n",
    "    for _, feature in tqdm(enumerate(features), desc='Make dataframe.....'):\n",
    "        mfcc_feature = np.zeros((26, sz))\n",
    "        mfcc_feature = feature[:,:sz]\n",
    "        \n",
    "        ret.append(mfcc_feature)\n",
    "        \n",
    "    return np.array(ret)"
   ]
  },
  {
   "cell_type": "code",
   "execution_count": 11,
   "metadata": {},
   "outputs": [
    {
     "name": "stderr",
     "output_type": "stream",
     "text": [
      "Make dataframe.....: 1440it [00:00, 240802.08it/s]\n"
     ]
    }
   ],
   "source": [
    "mfccs = make_mfcc(features, min(sz))"
   ]
  },
  {
   "cell_type": "code",
   "execution_count": 12,
   "metadata": {},
   "outputs": [],
   "source": [
    "def make_df(mfccs, boaw, emotions, actors):\n",
    "    mfcc_data, boaw_data = [], []\n",
    "    \n",
    "    print(mfccs.shape, boaw.shape)\n",
    "    \n",
    "    for i, _ in tqdm(enumerate(mfccs), desc='Make dataframe.....'):\n",
    "        \n",
    "        mfcc_data.append({\n",
    "            'feature': mfccs[i],\n",
    "            'emotion': emotions[i],\n",
    "            'actor': actors[i]\n",
    "        })\n",
    "        boaw_data.append({\n",
    "            'feature': boaw[i],\n",
    "            'actor': actors[i]\n",
    "        })\n",
    "    \n",
    "    return pd.DataFrame(mfcc_data), pd.DataFrame(boaw_data) "
   ]
  },
  {
   "cell_type": "code",
   "execution_count": 13,
   "metadata": {},
   "outputs": [
    {
     "name": "stdout",
     "output_type": "stream",
     "text": [
      "(1440, 26, 294) (1440, 50000)\n"
     ]
    },
    {
     "name": "stderr",
     "output_type": "stream",
     "text": [
      "Make dataframe.....: 1440it [00:00, 1444927.69it/s]\n"
     ]
    }
   ],
   "source": [
    "mfcc_df, boaw_df = make_df(mfccs, boaw, emotions, actors)"
   ]
  },
  {
   "cell_type": "code",
   "execution_count": 14,
   "metadata": {},
   "outputs": [],
   "source": [
    "def generate_train_test_mfcc(fold, df, save_path=\"\"):\n",
    "    \"\"\"\n",
    "    Divide the data in train and test in a subject-wise 5-CV way. The division is generated before running the training\n",
    "    of each fold.\n",
    "    :param fold:[int] Fold to create the train and test sets [ranging from 0 - 4]\n",
    "    :param df:[DataFrame] Dataframe with the complete list of files generated\n",
    "    :param save_path:[str] Path to save the train.csv and test.csv per fold\n",
    "    \"\"\"\n",
    "    \n",
    "    actors_per_fold = {\n",
    "        0: [2,5,14,15,16],\n",
    "        1: [3, 6, 7, 13, 18],\n",
    "        2: [10, 11, 12, 19, 20],\n",
    "        3: [8, 17, 21, 23, 24],\n",
    "        4: [1, 4, 9, 22],\n",
    "    }\n",
    "\n",
    "    test_df = df.loc[df['actor'].isin(actors_per_fold[fold])]\n",
    "    train_df = df.loc[~df['actor'].isin(actors_per_fold[fold])]\n",
    "\n",
    "    train_df = train_df.reset_index(drop=True)\n",
    "    test_df = test_df.reset_index(drop=True)\n",
    "    \n",
    "    X_train = np.array([data for data in train_df['feature']])\n",
    "    y_train = np.array([data for data in train_df['emotion']])\n",
    "    X_test = np.array([data for data in test_df['feature']])\n",
    "    y_test = np.array([data for data in test_df['emotion']])\n",
    "    \n",
    "    with open(save_path+'.npy', 'wb') as f:\n",
    "        np.save(f, X_train)\n",
    "        np.save(f, y_train)\n",
    "        np.save(f, X_test)\n",
    "        np.save(f, y_test)\n",
    "        \n",
    "    print(X_train.shape, y_train.shape, X_test.shape, y_test.shape)\n",
    "    \n",
    "\n",
    "def generate_train_test_boaw(fold, df, save_path=\"\"):\n",
    "    \"\"\"\n",
    "    Divide the data in train and test in a subject-wise 5-CV way. The division is generated before running the training\n",
    "    of each fold.\n",
    "    :param fold:[int] Fold to create the train and test sets [ranging from 0 - 4]\n",
    "    :param df:[DataFrame] Dataframe with the complete list of files generated\n",
    "    :param save_path:[str] Path to save the train.csv and test.csv per fold\n",
    "    \"\"\"\n",
    "    \n",
    "    actors_per_fold = {\n",
    "        0: [2,5,14,15,16],\n",
    "        1: [3, 6, 7, 13, 18],\n",
    "        2: [10, 11, 12, 19, 20],\n",
    "        3: [8, 17, 21, 23, 24],\n",
    "        4: [1, 4, 9, 22],\n",
    "    }\n",
    "\n",
    "    test_df = df.loc[df['actor'].isin(actors_per_fold[fold])]\n",
    "    train_df = df.loc[~df['actor'].isin(actors_per_fold[fold])]\n",
    "\n",
    "    train_df = train_df.reset_index(drop=True)\n",
    "    test_df = test_df.reset_index(drop=True)\n",
    "    \n",
    "    X_train = np.array([data for data in train_df['feature']])\n",
    "    X_test = np.array([data for data in test_df['feature']])\n",
    "    \n",
    "    with open(save_path+'.npy', 'wb') as f:\n",
    "        np.save(f, X_train)\n",
    "        np.save(f, X_test)\n",
    "        \n",
    "    print(X_train.shape, X_test.shape)"
   ]
  },
  {
   "cell_type": "code",
   "execution_count": 15,
   "metadata": {},
   "outputs": [
    {
     "name": "stdout",
     "output_type": "stream",
     "text": [
      "HBN dataset\\mfcc_fold0 HBN dataset\\boaw_fold0\n",
      "(1140, 26, 294) (1140,) (300, 26, 294) (300,)\n",
      "(1140, 50000) (300, 50000)\n",
      "HBN dataset\\mfcc_fold1 HBN dataset\\boaw_fold1\n",
      "(1140, 26, 294) (1140,) (300, 26, 294) (300,)\n",
      "(1140, 50000) (300, 50000)\n",
      "HBN dataset\\mfcc_fold2 HBN dataset\\boaw_fold2\n",
      "(1140, 26, 294) (1140,) (300, 26, 294) (300,)\n",
      "(1140, 50000) (300, 50000)\n",
      "HBN dataset\\mfcc_fold3 HBN dataset\\boaw_fold3\n",
      "(1140, 26, 294) (1140,) (300, 26, 294) (300,)\n",
      "(1140, 50000) (300, 50000)\n",
      "HBN dataset\\mfcc_fold4 HBN dataset\\boaw_fold4\n",
      "(1200, 26, 294) (1200,) (240, 26, 294) (240,)\n",
      "(1200, 50000) (240, 50000)\n"
     ]
    }
   ],
   "source": [
    "for fold in range(5):\n",
    "    \n",
    "    save_root = 'HBN dataset'\n",
    "    os.makedirs(save_root, exist_ok=True)\n",
    "    \n",
    "    mfcc_save_path = os.path.join(save_root, \"mfcc_fold\"+str(fold))\n",
    "    boaw_save_path = os.path.join(save_root, \"boaw_fold\"+str(fold))\n",
    "    \n",
    "    print(mfcc_save_path, boaw_save_path)\n",
    "    \n",
    "    generate_train_test_mfcc(fold, mfcc_df, mfcc_save_path)\n",
    "    time.sleep(5)\n",
    "    generate_train_test_boaw(fold, boaw_df, boaw_save_path)\n",
    "    time.sleep(5)"
   ]
  },
  {
   "cell_type": "code",
   "execution_count": 16,
   "metadata": {},
   "outputs": [],
   "source": [
    "# x, pred, cluster_center = [],[],[]\n",
    "# plt.scatter(x[:, 0], x[:, 1], c=pred, s=50, cmap='viridis')\n",
    "\n",
    "# centers = cluster_center\n",
    "# plt.scatter(centers[:, 0], centers[:, 1], c='red', s=200, alpha=0.5);"
   ]
  }
 ],
 "metadata": {
  "kernelspec": {
   "display_name": "Python 3.8.13 ('ser')",
   "language": "python",
   "name": "python3"
  },
  "language_info": {
   "codemirror_mode": {
    "name": "ipython",
    "version": 3
   },
   "file_extension": ".py",
   "mimetype": "text/x-python",
   "name": "python",
   "nbconvert_exporter": "python",
   "pygments_lexer": "ipython3",
   "version": "3.8.13"
  },
  "vscode": {
   "interpreter": {
    "hash": "5be54bb8ddc52e76cc18bd1012223019b9a180863a571d33caf1c2c34a734fb0"
   }
  }
 },
 "nbformat": 4,
 "nbformat_minor": 2
}
