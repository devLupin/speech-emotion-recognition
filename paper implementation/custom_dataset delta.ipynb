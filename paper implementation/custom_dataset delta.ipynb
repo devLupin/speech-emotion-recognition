{
 "cells": [
  {
   "cell_type": "code",
   "execution_count": 4,
   "metadata": {},
   "outputs": [],
   "source": [
    "import numpy as np\n",
    "\n",
    "def get_fold_dataset(npy_name):\n",
    "    with open(npy_name, 'rb') as f:\n",
    "        X_train = np.load(f)\n",
    "        y_train = np.load(f)\n",
    "        X_test = np.load(f)\n",
    "        y_test = np.load(f)\n",
    "        \n",
    "    return X_train, y_train, X_test, y_test"
   ]
  },
  {
   "cell_type": "code",
   "execution_count": 5,
   "metadata": {},
   "outputs": [],
   "source": [
    "from torchaudio.functional import compute_deltas\n",
    "import torch\n",
    "\n",
    "def get_deltas(feature):\n",
    "    f = np.expand_dims(feature, 1)\n",
    "    f = torch.Tensor(f)\n",
    "    \n",
    "    delta = compute_deltas(f, win_length=7)\n",
    "    delta2 = compute_deltas(delta, win_length=7)\n",
    "    \n",
    "    ret = torch.cat([f, delta, delta2], dim=1)\n",
    "    \n",
    "    return ret"
   ]
  },
  {
   "cell_type": "code",
   "execution_count": 6,
   "metadata": {},
   "outputs": [
    {
     "name": "stdout",
     "output_type": "stream",
     "text": [
      "torch.Size([486, 3, 184, 40]) (486,) torch.Size([49, 3, 184, 40]) (49,)\n",
      "torch.Size([477, 3, 184, 40]) (477,) torch.Size([58, 3, 184, 40]) (58,)\n",
      "torch.Size([492, 3, 184, 40]) (492,) torch.Size([43, 3, 184, 40]) (43,)\n",
      "torch.Size([497, 3, 184, 40]) (497,) torch.Size([38, 3, 184, 40]) (38,)\n",
      "torch.Size([480, 3, 184, 40]) (480,) torch.Size([55, 3, 184, 40]) (55,)\n",
      "torch.Size([500, 3, 184, 40]) (500,) torch.Size([35, 3, 184, 40]) (35,)\n",
      "torch.Size([474, 3, 184, 40]) (474,) torch.Size([61, 3, 184, 40]) (61,)\n",
      "torch.Size([466, 3, 184, 40]) (466,) torch.Size([69, 3, 184, 40]) (69,)\n",
      "torch.Size([479, 3, 184, 40]) (479,) torch.Size([56, 3, 184, 40]) (56,)\n",
      "torch.Size([464, 3, 184, 40]) (464,) torch.Size([71, 3, 184, 40]) (71,)\n"
     ]
    }
   ],
   "source": [
    "import os\n",
    "\n",
    "folder_name = \"LIGHT-SERNET dataset\"\n",
    "for i in range(10):\n",
    "    cur = os.path.join(folder_name, f'fold{i}.npy')\n",
    "    X_train, y_train, X_test, y_test = get_fold_dataset(cur)\n",
    "    \n",
    "    X_train = X_train.squeeze()\n",
    "    X_test = X_test.squeeze()\n",
    "    \n",
    "    \n",
    "    \n",
    "    X_train = get_deltas(X_train)\n",
    "    X_test = get_deltas(X_test)\n",
    "    \n",
    "    save_path = os.path.join(folder_name, f'delta-fold{i}.npy')\n",
    "    with open(save_path, 'wb') as f:\n",
    "        np.save(f, X_train)\n",
    "        np.save(f, y_train)\n",
    "        np.save(f, X_test)\n",
    "        np.save(f, y_test)\n",
    "        \n",
    "    print(X_train.shape, y_train.shape, X_test.shape, y_test.shape)"
   ]
  },
  {
   "cell_type": "code",
   "execution_count": null,
   "metadata": {},
   "outputs": [],
   "source": []
  }
 ],
 "metadata": {
  "kernelspec": {
   "display_name": "Python 3.8.14 ('ser')",
   "language": "python",
   "name": "python3"
  },
  "language_info": {
   "codemirror_mode": {
    "name": "ipython",
    "version": 3
   },
   "file_extension": ".py",
   "mimetype": "text/x-python",
   "name": "python",
   "nbconvert_exporter": "python",
   "pygments_lexer": "ipython3",
   "version": "3.8.14"
  },
  "orig_nbformat": 4,
  "vscode": {
   "interpreter": {
    "hash": "5be54bb8ddc52e76cc18bd1012223019b9a180863a571d33caf1c2c34a734fb0"
   }
  }
 },
 "nbformat": 4,
 "nbformat_minor": 2
}
