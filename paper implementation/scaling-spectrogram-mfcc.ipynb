{
 "cells": [
  {
   "cell_type": "code",
   "execution_count": 1,
   "metadata": {},
   "outputs": [],
   "source": [
    "import librosa\n",
    "import librosa.display as librosa_display\n",
    "import matplotlib.pyplot as plt\n",
    "import numpy as np\n",
    "from tqdm import tqdm\n",
    "from pathlib import Path\n",
    "import pandas as pd\n",
    "import os\n",
    "import time\n",
    "from torchaudio.functional import compute_deltas\n",
    "import torch"
   ]
  },
  {
   "cell_type": "code",
   "execution_count": 2,
   "metadata": {},
   "outputs": [],
   "source": [
    "def prepare_RAVDESS_DS(path_audios):\n",
    "    wav_paths, emotions, actors = [], [], []\n",
    "    for path in tqdm(Path(path_audios).glob(\"*/*.wav\")):\n",
    "        name = str(path).split('/')[-1].split('.')[0]\n",
    "        label = int(name.split(\"-\")[2]) - 1  # Start emotions in 0\n",
    "        actor = int(name.split(\"-\")[-1])\n",
    "\n",
    "        try:\n",
    "            wav_paths.append(path)\n",
    "            emotions.append(label)\n",
    "            actors.append(actor)\n",
    "        except Exception as e:\n",
    "            # print(str(path), e)\n",
    "            pass\n",
    "        \n",
    "    return wav_paths, emotions, actors"
   ]
  },
  {
   "cell_type": "code",
   "execution_count": 3,
   "metadata": {},
   "outputs": [
    {
     "name": "stderr",
     "output_type": "stream",
     "text": [
      "1440it [00:00, 51601.03it/s]\n"
     ]
    }
   ],
   "source": [
    "wav_paths, emotions, actors = prepare_RAVDESS_DS('dataset')"
   ]
  },
  {
   "cell_type": "code",
   "execution_count": 4,
   "metadata": {},
   "outputs": [],
   "source": [
    "sample_rate = 16000\n",
    "\n",
    "frame_length = 0.064\n",
    "frame_stride = 0.016\n",
    "\n",
    "def scaled(li, min_v=-1, max_v=1):\n",
    "    ret = [(x%(max_v-min_v+1)+min_v) for x in li]\n",
    "    return np.array(ret)"
   ]
  },
  {
   "cell_type": "code",
   "execution_count": 5,
   "metadata": {},
   "outputs": [],
   "source": [
    "def get_sample(paths):\n",
    "    data = []\n",
    "    \n",
    "    for _, path, in tqdm(enumerate(paths), desc='get features, size.....'):\n",
    "        audio_features = librosa.load(path, sr=sample_rate)[0]\n",
    "        li = []\n",
    "        for x in audio_features:\n",
    "            if x <= 5e-4 and x >= -5e-4:\n",
    "                x = 0\n",
    "            li.append(x)\n",
    "        data.append(li)\n",
    "        \n",
    "    return data"
   ]
  },
  {
   "cell_type": "code",
   "execution_count": 6,
   "metadata": {},
   "outputs": [
    {
     "name": "stderr",
     "output_type": "stream",
     "text": [
      "get features, size.....: 1440it [03:08,  7.64it/s]\n"
     ]
    }
   ],
   "source": [
    "audio = get_sample(wav_paths)"
   ]
  },
  {
   "cell_type": "code",
   "execution_count": 7,
   "metadata": {},
   "outputs": [],
   "source": [
    "import soundfile\n",
    "\n",
    "soundfile.write('sample.wav',\n",
    "                audio[0],\n",
    "                16000,\n",
    "                format='WAV')"
   ]
  },
  {
   "cell_type": "code",
   "execution_count": 8,
   "metadata": {},
   "outputs": [],
   "source": [
    "def get_features(audio):\n",
    "    data = []\n",
    "    sz = []\n",
    "    for _, wav, in tqdm(enumerate(audio), desc='get features, size.....'):\n",
    "        wav = np.array(wav)\n",
    "        input_nfft = int(round(sample_rate*frame_length))\n",
    "        input_stride = int(round(sample_rate*frame_stride))\n",
    "        \n",
    "        spectrogram = librosa.feature.melspectrogram(y=wav, sr=sample_rate, n_mels=40, n_fft=input_nfft, window='hamming', hop_length=input_stride)\n",
    "        melspectrogram = librosa.power_to_db(spectrogram, ref=np.max)\n",
    "        \n",
    "        S = librosa.feature.melspectrogram(y=wav, sr=sample_rate, n_mels=128, n_fft=input_nfft, window='hamming', hop_length=input_stride)\n",
    "        log_S = librosa.power_to_db(S, ref=np.max)\n",
    "        mfcc = librosa.feature.mfcc(S=log_S, n_mfcc=40)\n",
    "        \n",
    "        melspectrogram = np.expand_dims(melspectrogram, 0)\n",
    "        melspectrogram = torch.Tensor(melspectrogram)\n",
    "        \n",
    "        mfcc = np.expand_dims(mfcc, 0)\n",
    "        mfcc = torch.Tensor(mfcc)\n",
    "        \n",
    "        ret = torch.cat([melspectrogram, mfcc], dim=0)\n",
    "        \n",
    "        data.append(ret)\n",
    "        sz.append(mfcc.shape[-1])\n",
    "        \n",
    "    return data, sz"
   ]
  },
  {
   "cell_type": "code",
   "execution_count": 9,
   "metadata": {},
   "outputs": [
    {
     "name": "stderr",
     "output_type": "stream",
     "text": [
      "get features, size.....: 1440it [00:15, 95.43it/s] \n"
     ]
    }
   ],
   "source": [
    "features, sz = get_features(audio)"
   ]
  },
  {
   "cell_type": "code",
   "execution_count": 10,
   "metadata": {},
   "outputs": [
    {
     "name": "stdout",
     "output_type": "stream",
     "text": [
      "184\n",
      "torch.Size([2, 40, 207])\n"
     ]
    },
    {
     "data": {
      "text/plain": [
       "torch.Size([40, 207])"
      ]
     },
     "execution_count": 10,
     "metadata": {},
     "output_type": "execute_result"
    }
   ],
   "source": [
    "print(min(sz))\n",
    "print(features[0].shape)\n",
    "a=features[0]\n",
    "a[0,:,:].shape"
   ]
  },
  {
   "cell_type": "code",
   "execution_count": 11,
   "metadata": {},
   "outputs": [],
   "source": [
    "def make_df(features, emotions, actors, sz):\n",
    "    data = []\n",
    "    \n",
    "    for i, feature in tqdm(enumerate(features), desc='Make dataframe.....'):\n",
    "        temp = feature.numpy()\n",
    "        mfcc_feature = np.zeros((2, 40, sz))\n",
    "        mfcc_feature = temp[:,:,:sz]\n",
    "        \n",
    "        data.append({\n",
    "            'feature': mfcc_feature,\n",
    "            'emotion': emotions[i],\n",
    "            'actor': actors[i]\n",
    "        })\n",
    "    \n",
    "    return pd.DataFrame(data)    "
   ]
  },
  {
   "cell_type": "code",
   "execution_count": 12,
   "metadata": {},
   "outputs": [
    {
     "name": "stderr",
     "output_type": "stream",
     "text": [
      "Make dataframe.....: 1440it [00:00, 120408.24it/s]\n"
     ]
    },
    {
     "data": {
      "text/plain": [
       "(1440,)"
      ]
     },
     "execution_count": 12,
     "metadata": {},
     "output_type": "execute_result"
    }
   ],
   "source": [
    "df = make_df(features, emotions, actors, min(sz))\n",
    "df['feature'].shape"
   ]
  },
  {
   "cell_type": "code",
   "execution_count": 13,
   "metadata": {},
   "outputs": [],
   "source": [
    "def get_deltas(feature):\n",
    "    f = np.expand_dims(feature, 1)\n",
    "    f = torch.Tensor(f)\n",
    "    \n",
    "    delta = compute_deltas(f, win_length=7)\n",
    "    delta2 = compute_deltas(delta, win_length=7)\n",
    "    \n",
    "    ret = torch.cat([f, delta, delta2], dim=1)\n",
    "    \n",
    "    return ret"
   ]
  },
  {
   "cell_type": "code",
   "execution_count": 14,
   "metadata": {},
   "outputs": [],
   "source": [
    "def generate_train_test_deltas(fold, df, save_path=\"\"):\n",
    "    \"\"\"\n",
    "    Divide the data in train and test in a subject-wise 5-CV way. The division is generated before running the training\n",
    "    of each fold.\n",
    "    :param fold:[int] Fold to create the train and test sets [ranging from 0 - 4]\n",
    "    :param df:[DataFrame] Dataframe with the complete list of files generated\n",
    "    :param save_path:[str] Path to save the train.csv and test.csv per fold\n",
    "    \"\"\"\n",
    "    \n",
    "    actors_per_fold = {\n",
    "        0: [2,5,14,15,16],\n",
    "        1: [3, 6, 7, 13, 18],\n",
    "        2: [10, 11, 12, 19, 20],\n",
    "        3: [8, 17, 21, 23, 24],\n",
    "        4: [1, 4, 9, 22],\n",
    "    }\n",
    "\n",
    "    test_df = df.loc[df['actor'].isin(actors_per_fold[fold])]\n",
    "    train_df = df.loc[~df['actor'].isin(actors_per_fold[fold])]\n",
    "\n",
    "    train_df = train_df.reset_index(drop=True)\n",
    "    test_df = test_df.reset_index(drop=True)\n",
    "    \n",
    "    X_train = np.array([data for data in train_df['feature']])\n",
    "    y_train = np.array([data for data in train_df['emotion']])\n",
    "    X_test = np.array([data for data in test_df['feature']])\n",
    "    y_test = np.array([data for data in test_df['emotion']])\n",
    "    \n",
    "    # X_train = get_deltas(X_train)\n",
    "    # X_test = get_deltas(X_test)\n",
    "    \n",
    "    with open(save_path+'.npy', 'wb') as f:\n",
    "        np.save(f, X_train)\n",
    "        np.save(f, y_train)\n",
    "        np.save(f, X_test)\n",
    "        np.save(f, y_test)\n",
    "        \n",
    "    print(X_train.shape, y_train.shape, X_test.shape, y_test.shape)"
   ]
  },
  {
   "cell_type": "code",
   "execution_count": 15,
   "metadata": {},
   "outputs": [
    {
     "name": "stdout",
     "output_type": "stream",
     "text": [
      "(1140, 2, 40, 184) (1140,) (300, 2, 40, 184) (300,)\n",
      "(1140, 2, 40, 184) (1140,) (300, 2, 40, 184) (300,)\n",
      "(1140, 2, 40, 184) (1140,) (300, 2, 40, 184) (300,)\n",
      "(1140, 2, 40, 184) (1140,) (300, 2, 40, 184) (300,)\n",
      "(1200, 2, 40, 184) (1200,) (240, 2, 40, 184) (240,)\n"
     ]
    }
   ],
   "source": [
    "for fold in range(5):\n",
    "    \n",
    "    save_root = 'scaling-spectrogram-mfcc dataset'\n",
    "    os.makedirs(save_root, exist_ok=True)\n",
    "    \n",
    "    save_path = os.path.join(save_root, \"fold\"+str(fold))\n",
    "    \n",
    "    generate_train_test_deltas(fold, df, save_path)\n",
    "    time.sleep(5)"
   ]
  },
  {
   "cell_type": "code",
   "execution_count": null,
   "metadata": {},
   "outputs": [],
   "source": []
  }
 ],
 "metadata": {
  "kernelspec": {
   "display_name": "Python 3.8.13 ('ser')",
   "language": "python",
   "name": "python3"
  },
  "language_info": {
   "codemirror_mode": {
    "name": "ipython",
    "version": 3
   },
   "file_extension": ".py",
   "mimetype": "text/x-python",
   "name": "python",
   "nbconvert_exporter": "python",
   "pygments_lexer": "ipython3",
   "version": "3.8.13"
  },
  "vscode": {
   "interpreter": {
    "hash": "5be54bb8ddc52e76cc18bd1012223019b9a180863a571d33caf1c2c34a734fb0"
   }
  }
 },
 "nbformat": 4,
 "nbformat_minor": 2
}
