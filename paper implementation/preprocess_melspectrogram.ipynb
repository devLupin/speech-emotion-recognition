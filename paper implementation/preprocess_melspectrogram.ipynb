{
 "cells": [
  {
   "cell_type": "code",
   "execution_count": 12,
   "id": "98b669d0",
   "metadata": {},
   "outputs": [],
   "source": [
    "from pathlib import Path\n",
    "from tqdm import tqdm\n",
    "\n",
    "def prepare_RAVDESS_DS(path_audios):\n",
    "    \"\"\"\n",
    "    Generation of the dataframe with the information of the dataset. The dataframe has the following structure:\n",
    "     ______________________________________________________________________________________________________________________________\n",
    "    |             name            |                     path                                   |     emotion      |     actor     |\n",
    "    ______________________________________________________________________________________________________________________________\n",
    "    |  01-01-01-01-01-01-01.wav   |    <RAVDESS_dir>/audios_16kHz/01-01-01-01-01-01-01.wav     |     Neutral      |     1         |\n",
    "    ______________________________________________________________________________________________________________________________\n",
    "    ...\n",
    "    :param path_audios: Path to the folder that contains all the audios in .wav format, 16kHz and single-channel(mono)\n",
    "    \"\"\"\n",
    "    dict_emotions_ravdess = {\n",
    "        0: 'Neutral',\n",
    "        1: 'Calm',\n",
    "        2: 'Happy',\n",
    "        3: 'Sad',\n",
    "        4: 'Angry',\n",
    "        5: 'Fear',\n",
    "        6: 'Disgust',\n",
    "        7: 'Surprise'\n",
    "    }\n",
    "    \n",
    "    wav_paths, emotions, names = [], [], []\n",
    "    for path in tqdm(Path(path_audios).glob(\"*/*.wav\")):\n",
    "        name = str(path).split('/')[-1].split('.')[0]\n",
    "        actor = int(name.split(\"-\")[-1])\n",
    "        label = int(name.split(\"-\")[2]) - 1  # Start emotions in 0\n",
    "\n",
    "        try:\n",
    "            wav_paths.append(path)\n",
    "            emotions.append(label)\n",
    "            names.append(actor)\n",
    "        except Exception as e:\n",
    "            # print(str(path), e)\n",
    "            pass\n",
    "        \n",
    "    return wav_paths, emotions, names"
   ]
  },
  {
   "cell_type": "code",
   "execution_count": 13,
   "id": "d8f516be",
   "metadata": {},
   "outputs": [
    {
     "name": "stderr",
     "output_type": "stream",
     "text": [
      "1440it [00:00, 32384.80it/s]"
     ]
    },
    {
     "name": "stdout",
     "output_type": "stream",
     "text": [
      "dataset\\Actor_01\\03-01-01-01-01-01-01.wav\n",
      "0\n"
     ]
    },
    {
     "name": "stderr",
     "output_type": "stream",
     "text": [
      "\n"
     ]
    }
   ],
   "source": [
    "import numpy as np\n",
    "import csv\n",
    "\n",
    "wav_paths, emotions, names = prepare_RAVDESS_DS('dataset')\n",
    "wav_paths = np.asarray(wav_paths)\n",
    "print(wav_paths[0])\n",
    "print(emotions[0])\n",
    "\n",
    "f = open('melspectrogram_class.csv', 'w', newline='')\n",
    "write = csv.writer(f)\n",
    "\n",
    "for i in range(len(wav_paths)):\n",
    "    info = [wav_paths[i], emotions[i], names[i]]\n",
    "    write.writerow(info)"
   ]
  },
  {
   "cell_type": "code",
   "execution_count": 14,
   "id": "dd5a6994",
   "metadata": {},
   "outputs": [
    {
     "name": "stdout",
     "output_type": "stream",
     "text": [
      "                                path  emotion  actor\n",
      "0        melspectrogram_images\\0.png        0      1\n",
      "1        melspectrogram_images\\1.png        0      1\n",
      "2        melspectrogram_images\\2.png        0      1\n",
      "3        melspectrogram_images\\3.png        0      1\n",
      "4        melspectrogram_images\\4.png        1      1\n",
      "...                              ...      ...    ...\n",
      "1435  melspectrogram_images\\1435.png        7     24\n",
      "1436  melspectrogram_images\\1436.png        7     24\n",
      "1437  melspectrogram_images\\1437.png        7     24\n",
      "1438  melspectrogram_images\\1438.png        7     24\n",
      "1439  melspectrogram_images\\1439.png        7     24\n",
      "\n",
      "[1440 rows x 3 columns]\n"
     ]
    }
   ],
   "source": [
    "## train test 5-fold\n",
    "\n",
    "import pandas as pd\n",
    "import natsort\n",
    "\n",
    "mel_images = 'melspectrogram_images'\n",
    "images = os.listdir(mel_images)\n",
    "images = natsort.natsorted(images)\n",
    "\n",
    "paths = []\n",
    "for mel in images:\n",
    "    p = os.path.join(mel_images, mel)\n",
    "    paths.append(p)\n",
    "\n",
    "data = []\n",
    "for i in range(len(wav_paths)):\n",
    "    data.append({\n",
    "        \"path\": paths[i],\n",
    "        \"emotion\": emotions[i],\n",
    "        \"actor\": names[i]\n",
    "    })\n",
    "\n",
    "df = pd.DataFrame(data)\n",
    "\n",
    "print(df)"
   ]
  },
  {
   "cell_type": "code",
   "execution_count": 15,
   "id": "b2408df5",
   "metadata": {},
   "outputs": [],
   "source": [
    "import os\n",
    "actors_per_fold = {\n",
    "    0: [2,5,14,15,16],\n",
    "    1: [3, 6, 7, 13, 18],\n",
    "    2: [10, 11, 12, 19, 20],\n",
    "    3: [8, 17, 21, 23, 24],\n",
    "    4: [1, 4, 9, 22],\n",
    "}\n",
    "\n",
    "save_root='melspectrogram_fold'\n",
    "os.makedirs(save_root, exist_ok=True)\n",
    "for i in range(5):\n",
    "    test_df = df.loc[df['actor'].isin(actors_per_fold[i])]\n",
    "    train_df = df.loc[~df['actor'].isin(actors_per_fold[i])]\n",
    "    \n",
    "    train_df = train_df.reset_index(drop=True)\n",
    "    test_df = test_df.reset_index(drop=True)\n",
    "    \n",
    "    save_path = os.path.join(save_root, str(i))\n",
    "    os.makedirs(save_path, exist_ok=True)\n",
    "    \n",
    "    train_df.to_csv(f'{save_path}/train.csv', sep=',', encoding='utf-8', index=False, header=False)\n",
    "    test_df.to_csv(f'{save_path}/test.csv', sep=',', encoding='utf-8', index=False, header=False)"
   ]
  },
  {
   "cell_type": "code",
   "execution_count": 11,
   "id": "2eb62f6c",
   "metadata": {},
   "outputs": [],
   "source": [
    "import csv\n",
    "import os\n",
    "import librosa\n",
    "import librosa.display\n",
    "import matplotlib.pyplot as plt\n",
    "\n",
    "def save_melspectrogram(save_path, wav_paths, emotions):\n",
    "    os.makedirs(save_path, exist_ok=True)\n",
    "    \n",
    "    f = open('melspectrogram.csv', 'w')\n",
    "    write = csv.writer(f)\n",
    "    \n",
    "    for i, wav_path in tqdm(enumerate(wav_paths), desc='saved melspectrogram images'):\n",
    "        y, sr = librosa.load(wav_path, 16000)\n",
    "        \n",
    "        S = librosa.feature.melspectrogram(y=y, sr=sr, n_fft=1024, win_length=512, window='hamming', hop_length=256, n_mels=256, fmax=sr/2)\n",
    "        melspectrogram = librosa.power_to_db(S, ref=np.max)\n",
    "        melspectrogram = melspectrogram[:226,39:220]\n",
    "        librosa.display.specshow(melspectrogram, sr=sr)\n",
    "        \n",
    "        melspectrogram_path = os.path.join(save_path, str(i)+'.png')\n",
    "        plt.axis('off')\n",
    "        plt.savefig(melspectrogram_path, bbox_inches='tight', pad_inches = 0)\n",
    "        \n",
    "        info = [melspectrogram_path, emotions[i], names[i]]\n",
    "        write.writerow(info)"
   ]
  },
  {
   "cell_type": "code",
   "execution_count": null,
   "id": "b90eecbd",
   "metadata": {
    "scrolled": true
   },
   "outputs": [],
   "source": [
    "save_melspectrogram('melspectrogram_images', wav_paths, emotions)"
   ]
  },
  {
   "cell_type": "code",
   "execution_count": null,
   "id": "eaeaaf06",
   "metadata": {},
   "outputs": [],
   "source": []
  }
 ],
 "metadata": {
  "kernelspec": {
   "display_name": "Python 3.8.13 ('ser')",
   "language": "python",
   "name": "python3"
  },
  "language_info": {
   "codemirror_mode": {
    "name": "ipython",
    "version": 3
   },
   "file_extension": ".py",
   "mimetype": "text/x-python",
   "name": "python",
   "nbconvert_exporter": "python",
   "pygments_lexer": "ipython3",
   "version": "3.8.13"
  },
  "vscode": {
   "interpreter": {
    "hash": "5be54bb8ddc52e76cc18bd1012223019b9a180863a571d33caf1c2c34a734fb0"
   }
  }
 },
 "nbformat": 4,
 "nbformat_minor": 5
}
