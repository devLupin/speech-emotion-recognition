{
 "cells": [
  {
   "cell_type": "code",
   "execution_count": 1,
   "id": "3a464d4a",
   "metadata": {},
   "outputs": [],
   "source": [
    "# Get the critical imports out of the way\n",
    "import matplotlib.pyplot as plt\n",
    "import pandas as pd\n",
    "import numpy as np\n",
    "import librosa.display\n",
    "import soundfile\n",
    "import os\n",
    "# matplotlib complains about the behaviour of librosa.display, so we'll ignore those warnings:\n",
    "import warnings; warnings.filterwarnings('ignore')\n",
    "from IPython.core.display import HTML "
   ]
  },
  {
   "cell_type": "code",
   "execution_count": 2,
   "id": "5d69ced7",
   "metadata": {},
   "outputs": [],
   "source": [
    "import librosa\n",
    "\n",
    "def feature_chromagram(waveform, sample_rate):\n",
    "    # STFT computed here explicitly; mel spectrogram and MFCC functions do this under the hood\n",
    "    stft_spectrogram=np.abs(librosa.stft(waveform))\n",
    "    # Produce the chromagram for all STFT frames and get the mean of each column of the resulting matrix to create a feature array\n",
    "    chromagram=np.mean(librosa.feature.chroma_stft(S=stft_spectrogram, sr=sample_rate).T,axis=0)\n",
    "    return chromagram\n",
    "\n",
    "def feature_melspectrogram(waveform, sample_rate):\n",
    "    # Produce the mel spectrogram for all STFT frames and get the mean of each column of the resulting matrix to create a feature array\n",
    "    # Using 8khz as upper frequency bound should be enough for most speech classification tasks\n",
    "    melspectrogram=np.mean(librosa.feature.melspectrogram(y=waveform, sr=sample_rate, n_mels=128, fmax=8000).T,axis=0)\n",
    "    return melspectrogram\n",
    "\n",
    "def feature_mfcc(waveform, sample_rate):\n",
    "    # Compute the MFCCs for all STFT frames and get the mean of each column of the resulting matrix to create a feature array\n",
    "    # 40 filterbanks = 40 coefficients\n",
    "    mfc_coefficients=np.mean(librosa.feature.mfcc(y=waveform, sr=sample_rate, n_mfcc=40).T, axis=0)\n",
    "    return mfc_coefficients"
   ]
  },
  {
   "cell_type": "code",
   "execution_count": 7,
   "id": "236dc052",
   "metadata": {},
   "outputs": [],
   "source": [
    "def get_features(file):\n",
    "    # load an individual soundfile\n",
    "     with soundfile.SoundFile(file) as audio:\n",
    "        waveform, sample_rate = librosa.load(file, duration=3, offset=0.5, sr=48000)\n",
    "        # compute features of soundfile\n",
    "        chromagram = feature_chromagram(waveform, sample_rate)\n",
    "        melspectrogram = feature_melspectrogram(waveform, sample_rate)\n",
    "        mfc_coefficients = feature_mfcc(waveform, sample_rate)\n",
    "        \n",
    "        feature_matrix=np.array([])\n",
    "        # use np.hstack to stack our feature arrays horizontally to create a feature matrix\n",
    "        feature_matrix = np.hstack((chromagram, melspectrogram, mfc_coefficients))\n",
    "        \n",
    "        return feature_matrix"
   ]
  },
  {
   "cell_type": "code",
   "execution_count": 15,
   "id": "0bb1d3fb",
   "metadata": {},
   "outputs": [],
   "source": [
    "def speech_file_to_array_fn(path):\n",
    "    return get_features(path)\n",
    "\n",
    "def label_to_id(label):\n",
    "    label_list = ['Neutral', 'Calm', 'Happy', 'Sad', 'Angry', 'Fear', 'Disgust', 'Surprise']\n",
    "\n",
    "    if len(label_list) > 0:\n",
    "        return label_list.index(label) if label in label_list else -1\n",
    "\n",
    "    return label\n",
    "\n",
    "def preprocess_function(examples, input_column = \"path\", output_column = \"emotion\"):\n",
    "    \"\"\"\n",
    "    Load the recordings with their labels.\n",
    "    :param examples:[DataFrame]  with the samples of the training or test sets.\n",
    "    :param input_column:[str]  Column that contain the paths to the recordings\n",
    "    :param output_column:[str]  Column that contain the emotion associated to each recording\n",
    "    :param target_sampling_rate:[int] Global variable with the expected sampling rate of the model\n",
    "    \"\"\"\n",
    "    speech_list = [speech_file_to_array_fn(path) for path in examples[input_column]]\n",
    "    target_list = [label_to_id(label) for label in examples[output_column]]\n",
    "\n",
    "    result = {\n",
    "        'input_values': speech_list,\n",
    "        'labels': target_list\n",
    "    }\n",
    "\n",
    "    return result"
   ]
  },
  {
   "cell_type": "code",
   "execution_count": 16,
   "id": "b0c7dfeb",
   "metadata": {},
   "outputs": [
    {
     "name": "stderr",
     "output_type": "stream",
     "text": [
      "Using custom data configuration default-b8bcc55f28dc144d\n",
      "Found cached dataset csv (C:/Users/devLupin/.cache/huggingface/datasets/csv/default-b8bcc55f28dc144d/0.0.0/652c3096f041ee27b04d2232d41f10547a8fecda3e284a79a0ec4053c916ef7a)\n"
     ]
    },
    {
     "data": {
      "application/vnd.jupyter.widget-view+json": {
       "model_id": "05f4f5e2f6444ea4b5daa288b9b8f8a0",
       "version_major": 2,
       "version_minor": 0
      },
      "text/plain": [
       "  0%|          | 0/2 [00:00<?, ?it/s]"
      ]
     },
     "metadata": {},
     "output_type": "display_data"
    },
    {
     "name": "stdout",
     "output_type": "stream",
     "text": [
      "(1140, 180) (1140,) (300, 180) (300,)\n"
     ]
    },
    {
     "name": "stderr",
     "output_type": "stream",
     "text": [
      "Using custom data configuration default-6481803daa7c2721\n",
      "Found cached dataset csv (C:/Users/devLupin/.cache/huggingface/datasets/csv/default-6481803daa7c2721/0.0.0/652c3096f041ee27b04d2232d41f10547a8fecda3e284a79a0ec4053c916ef7a)\n"
     ]
    },
    {
     "data": {
      "application/vnd.jupyter.widget-view+json": {
       "model_id": "c9d834bec3924fc680be0030721cd520",
       "version_major": 2,
       "version_minor": 0
      },
      "text/plain": [
       "  0%|          | 0/2 [00:00<?, ?it/s]"
      ]
     },
     "metadata": {},
     "output_type": "display_data"
    },
    {
     "name": "stdout",
     "output_type": "stream",
     "text": [
      "(1140, 180) (1140,) (300, 180) (300,)\n"
     ]
    },
    {
     "name": "stderr",
     "output_type": "stream",
     "text": [
      "Using custom data configuration default-551db4a7f964cc4f\n",
      "Found cached dataset csv (C:/Users/devLupin/.cache/huggingface/datasets/csv/default-551db4a7f964cc4f/0.0.0/652c3096f041ee27b04d2232d41f10547a8fecda3e284a79a0ec4053c916ef7a)\n"
     ]
    },
    {
     "data": {
      "application/vnd.jupyter.widget-view+json": {
       "model_id": "84207c0570884e45b8060070921ffb6f",
       "version_major": 2,
       "version_minor": 0
      },
      "text/plain": [
       "  0%|          | 0/2 [00:00<?, ?it/s]"
      ]
     },
     "metadata": {},
     "output_type": "display_data"
    },
    {
     "name": "stdout",
     "output_type": "stream",
     "text": [
      "(1140, 180) (1140,) (300, 180) (300,)\n"
     ]
    },
    {
     "name": "stderr",
     "output_type": "stream",
     "text": [
      "Using custom data configuration default-10664dd408e3abb0\n",
      "Found cached dataset csv (C:/Users/devLupin/.cache/huggingface/datasets/csv/default-10664dd408e3abb0/0.0.0/652c3096f041ee27b04d2232d41f10547a8fecda3e284a79a0ec4053c916ef7a)\n"
     ]
    },
    {
     "data": {
      "application/vnd.jupyter.widget-view+json": {
       "model_id": "8976b98fc31b4dcfb0888433516d41d5",
       "version_major": 2,
       "version_minor": 0
      },
      "text/plain": [
       "  0%|          | 0/2 [00:00<?, ?it/s]"
      ]
     },
     "metadata": {},
     "output_type": "display_data"
    },
    {
     "name": "stdout",
     "output_type": "stream",
     "text": [
      "(1140, 180) (1140,) (300, 180) (300,)\n"
     ]
    },
    {
     "name": "stderr",
     "output_type": "stream",
     "text": [
      "Using custom data configuration default-325a78e528c91f5d\n",
      "Found cached dataset csv (C:/Users/devLupin/.cache/huggingface/datasets/csv/default-325a78e528c91f5d/0.0.0/652c3096f041ee27b04d2232d41f10547a8fecda3e284a79a0ec4053c916ef7a)\n"
     ]
    },
    {
     "data": {
      "application/vnd.jupyter.widget-view+json": {
       "model_id": "bc0bdca1c82f4f81b91925919c3a9cee",
       "version_major": 2,
       "version_minor": 0
      },
      "text/plain": [
       "  0%|          | 0/2 [00:00<?, ?it/s]"
      ]
     },
     "metadata": {},
     "output_type": "display_data"
    },
    {
     "name": "stdout",
     "output_type": "stream",
     "text": [
      "(1200, 180) (1200,) (240, 180) (240,)\n"
     ]
    }
   ],
   "source": [
    "import numpy as np\n",
    "from datasets import load_dataset\n",
    "\n",
    "save_dir = 'via_IliaZenkov'\n",
    "\n",
    "dataset_1d = []\n",
    "for fold in range(5):\n",
    "    save_path = os.path.join('audio_48k', \"fold\"+str(fold))\n",
    "    os.makedirs(save_path, exist_ok=True)\n",
    "    \n",
    "    data_files = {\n",
    "        \"train\": os.path.join(save_path, \"train.csv\"),\n",
    "        \"validation\": os.path.join(save_path, \"test.csv\"),\n",
    "    }\n",
    "    \n",
    "    #Load data\n",
    "    dataset = load_dataset(\"csv\", data_files=data_files, delimiter=\"\\t\", )\n",
    "    train_dataset = dataset[\"train\"]\n",
    "    eval_dataset = dataset[\"validation\"]\n",
    "    \n",
    "    train = preprocess_function(train_dataset)\n",
    "    test = preprocess_function(eval_dataset)\n",
    "    \n",
    "    X_train = np.array(train[\"input_values\"])\n",
    "    y_train = np.array(train['labels'])\n",
    "    X_test = np.array(test[\"input_values\"])\n",
    "    y_test = np.array(test['labels'])\n",
    "    \n",
    "    print(X_train.shape, y_train.shape, X_test.shape, y_test.shape)\n",
    "    \n",
    "    numpy_name = os.path.join(save_dir, str(fold) + '.npy')\n",
    "    os.makedirs(save_dir, exist_ok=True)\n",
    "    \n",
    "    with open(numpy_name, 'wb') as f:\n",
    "        np.save(f, X_train)\n",
    "        np.save(f, y_train)\n",
    "        np.save(f, X_test)\n",
    "        np.save(f, y_test)"
   ]
  },
  {
   "cell_type": "code",
   "execution_count": 18,
   "id": "e4a74a74",
   "metadata": {},
   "outputs": [
    {
     "name": "stdout",
     "output_type": "stream",
     "text": [
      "MLP Model's accuracy on training set is 100.00%\n",
      "MLP Model's accuracy on test set is 46.00%\n",
      "MLP Model's accuracy on training set is 100.00%\n",
      "MLP Model's accuracy on test set is 42.67%\n",
      "MLP Model's accuracy on training set is 100.00%\n",
      "MLP Model's accuracy on test set is 41.00%\n",
      "MLP Model's accuracy on training set is 100.00%\n",
      "MLP Model's accuracy on test set is 40.33%\n",
      "MLP Model's accuracy on training set is 100.00%\n",
      "MLP Model's accuracy on test set is 33.33%\n"
     ]
    }
   ],
   "source": [
    "from sklearn.preprocessing import StandardScaler\n",
    "from sklearn.neural_network import MLPClassifier\n",
    "\n",
    "npy_path = 'via_IliaZenkov'\n",
    "all_npy = os.listdir(npy_path)\n",
    "\n",
    "scaler = StandardScaler()\n",
    "\n",
    "for fold in all_npy:\n",
    "    npy = os.path.join(npy_path, fold)\n",
    "    \n",
    "    with open(npy, 'rb') as f:\n",
    "        X_train = np.load(f)\n",
    "        y_train = np.load(f)\n",
    "        X_test = np.load(f)\n",
    "        y_test = np.load(f)\n",
    "    \n",
    "    X_train = scaler.fit_transform(X_train)\n",
    "    X_test = scaler.fit_transform(X_test)\n",
    "    \n",
    "    pkl_name = f'./model/MLPClassifier'+fold+'.pkl'\n",
    "    \n",
    "    model = MLPClassifier(\n",
    "        activation='logistic', \n",
    "        solver='adam', \n",
    "        alpha=0.001, \n",
    "        beta_1=0.9,\n",
    "        beta_2=0.999,\n",
    "        batch_size=256, \n",
    "        epsilon=1e-08, \n",
    "        hidden_layer_sizes=(300,), \n",
    "        learning_rate='adaptive',\n",
    "        max_iter=1000, # I've found for this task, loss converges at ~1000 iterations\n",
    "        random_state=69,\n",
    "    )\n",
    "\n",
    "    model.fit(X_train, y_train)\n",
    "\n",
    "    print(f'MLP Model\\'s accuracy on training set is {100*model.score(X_train, y_train):.2f}%')\n",
    "    print(f'MLP Model\\'s accuracy on test set is {100*model.score(X_test, y_test):.2f}%')"
   ]
  },
  {
   "cell_type": "code",
   "execution_count": null,
   "id": "79a2a6f1",
   "metadata": {},
   "outputs": [],
   "source": []
  }
 ],
 "metadata": {
  "kernelspec": {
   "display_name": "Python 3 (ipykernel)",
   "language": "python",
   "name": "python3"
  },
  "language_info": {
   "codemirror_mode": {
    "name": "ipython",
    "version": 3
   },
   "file_extension": ".py",
   "mimetype": "text/x-python",
   "name": "python",
   "nbconvert_exporter": "python",
   "pygments_lexer": "ipython3",
   "version": "3.8.13"
  }
 },
 "nbformat": 4,
 "nbformat_minor": 5
}
