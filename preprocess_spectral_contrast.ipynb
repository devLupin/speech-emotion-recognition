{
 "cells": [
  {
   "cell_type": "code",
   "execution_count": 1,
   "id": "98b669d0",
   "metadata": {},
   "outputs": [],
   "source": [
    "from pathlib import Path\n",
    "from tqdm.auto import tqdm\n",
    "import csv\n",
    "import os\n",
    "import librosa\n",
    "import librosa.display\n",
    "import matplotlib.pyplot as plt\n",
    "import numpy as np\n",
    "import warnings\n",
    "\n",
    "warnings.filterwarnings(action='ignore')"
   ]
  },
  {
   "cell_type": "code",
   "execution_count": 2,
   "id": "eaeaaf06",
   "metadata": {},
   "outputs": [],
   "source": [
    "def prepare_RAVDESS_DS(path_audios):\n",
    "    \"\"\"\n",
    "    Generation of the dataframe with the information of the dataset. The dataframe has the following structure:\n",
    "     ______________________________________________________________________________________________________________________________\n",
    "    |             name            |                     path                                   |     emotion      |     actor     |\n",
    "    ______________________________________________________________________________________________________________________________\n",
    "    |  01-01-01-01-01-01-01.wav   |    <RAVDESS_dir>/audios_16kHz/01-01-01-01-01-01-01.wav     |     Neutral      |     1         |\n",
    "    ______________________________________________________________________________________________________________________________\n",
    "    ...\n",
    "    :param path_audios: Path to the folder that contains all the audios in .wav format, 16kHz and single-channel(mono)\n",
    "    \"\"\"\n",
    "    dict_emotions_ravdess = {\n",
    "        0: 'Neutral',\n",
    "        1: 'Calm',\n",
    "        2: 'Happy',\n",
    "        3: 'Sad',\n",
    "        4: 'Angry',\n",
    "        5: 'Fear',\n",
    "        6: 'Disgust',\n",
    "        7: 'Surprise'\n",
    "    }\n",
    "    \n",
    "    wav_paths, emotions = [], []\n",
    "    for path in tqdm(Path(path_audios).glob(\"*/*.wav\")):\n",
    "        name = str(path).split('/')[-1].split('.')[0]\n",
    "        label = int(name.split(\"-\")[2]) - 1  # Start emotions in 0\n",
    "\n",
    "        try:\n",
    "            wav_paths.append(path)\n",
    "            emotions.append(label)\n",
    "        except Exception as e:\n",
    "            # print(str(path), e)\n",
    "            pass\n",
    "        \n",
    "    return wav_paths, emotions"
   ]
  },
  {
   "cell_type": "code",
   "execution_count": 3,
   "id": "cfa321c2",
   "metadata": {},
   "outputs": [],
   "source": [
    "def save_spectral_contrast(save_path, wav_paths, emotions):\n",
    "    os.makedirs(save_path, exist_ok=True)\n",
    "    \n",
    "    f = open('spectral_contrast.csv', 'w', newline='')\n",
    "    write = csv.writer(f)\n",
    "    \n",
    "    for i in tqdm(range(len(wav_paths))):\n",
    "        y, sr = librosa.load(wav_paths[i], sr=16000)\n",
    "        \n",
    "        spectral_contrast = librosa.feature.spectral_contrast(y=y, sr=sr, n_fft=1024, win_length=512, window='hamming', hop_length=256)\n",
    "        librosa.display.specshow(spectral_contrast, sr=sr)\n",
    "        \n",
    "        mfcc_path = os.path.join(save_path, str(i)+'.png')\n",
    "        plt.axis('off')\n",
    "        plt.savefig(mfcc_path, bbox_inches='tight', pad_inches = 0)\n",
    "        \n",
    "        li = [mfcc_path, emotions[i]]\n",
    "        write.writerow(li)"
   ]
  },
  {
   "cell_type": "code",
   "execution_count": 4,
   "id": "c68d9b5c",
   "metadata": {},
   "outputs": [
    {
     "data": {
      "application/vnd.jupyter.widget-view+json": {
       "model_id": "cf65fd8a5e744fc58d9c03163b427ad6",
       "version_major": 2,
       "version_minor": 0
      },
      "text/plain": [
       "0it [00:00, ?it/s]"
      ]
     },
     "metadata": {},
     "output_type": "display_data"
    },
    {
     "data": {
      "application/vnd.jupyter.widget-view+json": {
       "model_id": "74a3733b36b241d08fb3b8236d3b550a",
       "version_major": 2,
       "version_minor": 0
      },
      "text/plain": [
       "  0%|          | 0/1440 [00:00<?, ?it/s]"
      ]
     },
     "metadata": {},
     "output_type": "display_data"
    },
    {
     "data": {
      "image/png": "[encoded data removed]",
      "text/plain": [
       "<Figure size 640x480 with 1 Axes>"
      ]
     },
     "metadata": {},
     "output_type": "display_data"
    }
   ],
   "source": [
    "if __name__ == '__main__':\n",
    "    \"\"\"\n",
    "        Executing it all at once is slow, so it is executed in parts.\n",
    "    \"\"\"\n",
    "\n",
    "    wav_paths, emotions = prepare_RAVDESS_DS('dataset')\n",
    "    wav_paths = np.asarray(wav_paths)\n",
    "    \n",
    "    save_spectral_contrast('spectral_contrast_images', wav_paths, emotions)"
   ]
  },
  {
   "cell_type": "code",
   "execution_count": null,
   "id": "49fa88e0",
   "metadata": {},
   "outputs": [],
   "source": []
  }
 ],
 "metadata": {
  "kernelspec": {
   "display_name": "Python 3 (ipykernel)",
   "language": "python",
   "name": "python3"
  },
  "language_info": {
   "codemirror_mode": {
    "name": "ipython",
    "version": 3
   },
   "file_extension": ".py",
   "mimetype": "text/x-python",
   "name": "python",
   "nbconvert_exporter": "python",
   "pygments_lexer": "ipython3",
   "version": "3.8.13"
  }
 },
 "nbformat": 4,
 "nbformat_minor": 5
}
