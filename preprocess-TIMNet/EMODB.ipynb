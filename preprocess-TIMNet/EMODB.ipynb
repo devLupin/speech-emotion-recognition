{
 "cells": [
  {
   "cell_type": "code",
   "execution_count": 1,
   "metadata": {},
   "outputs": [],
   "source": [
    "import librosa\n",
    "import librosa.display as librosa_display\n",
    "import matplotlib.pyplot as plt\n",
    "import numpy as np\n",
    "from tqdm import tqdm\n",
    "from pathlib import Path\n",
    "import pandas as pd\n",
    "import os\n",
    "import time\n",
    "from natsort import natsorted"
   ]
  },
  {
   "cell_type": "code",
   "execution_count": 2,
   "metadata": {},
   "outputs": [],
   "source": [
    "\n",
    "label2name = {\n",
    "    \"L\": 0,\n",
    "    \"A\": 1,\n",
    "    \"E\": 2,\n",
    "    \"F\": 3,\n",
    "    \"T\": 4,\n",
    "    \"W\": 5,\n",
    "    \"N\": 6\n",
    "}\n",
    "\n",
    "def prepare_EMODB(data_root):\n",
    "    dirs = os.listdir(data_root)\n",
    "    dirs = natsorted(dirs)\n",
    "    \n",
    "    paths, emotions, actors = [], [], []\n",
    "    \n",
    "    for d in dirs:\n",
    "        cur = os.path.join(data_root, d)\n",
    "        \n",
    "        paths.append(cur)\n",
    "        emotions.append(label2name[d[5]])\n",
    "        actors.append(d[:2])\n",
    "    \n",
    "    return paths, emotions, actors"
   ]
  },
  {
   "cell_type": "code",
   "execution_count": 3,
   "metadata": {},
   "outputs": [],
   "source": [
    "wav_paths, emotions, actors = prepare_EMODB('EMO-DB')"
   ]
  },
  {
   "cell_type": "code",
   "execution_count": 4,
   "metadata": {},
   "outputs": [],
   "source": [
    "mean_signal_length = 100000\n",
    "\n",
    "def get_feature(paths:str, mfcc_len:int=39, flatten:bool=False):\n",
    "    features = []\n",
    "    \n",
    "    pad_cnt, non_pad_cnt = 0, 0\n",
    "    for i, path, in tqdm(enumerate(paths), desc='get features.....'):\n",
    "        signal, fs = librosa.load(path)\n",
    "        s_len = len(signal)\n",
    "        \n",
    "        if s_len < mean_signal_length:\n",
    "            pad_len = mean_signal_length - s_len\n",
    "            pad_rem = pad_len % 2\n",
    "            pad_len //= 2\n",
    "            signal = np.pad(signal, (pad_len, pad_len+pad_rem), 'constant', constant_values=0)\n",
    "            \n",
    "            pad_cnt += 1\n",
    "            \n",
    "        else:\n",
    "            pad_len = s_len - mean_signal_length\n",
    "            pad_len //= 2\n",
    "            signal = signal[pad_len:pad_len + mean_signal_length]\n",
    "            \n",
    "            non_pad_cnt += 1\n",
    "            \n",
    "        mfcc = librosa.feature.mfcc(y=signal, sr=fs, n_mfcc=39)\n",
    "        mfcc = mfcc.T\n",
    "        \n",
    "        features.append(mfcc)\n",
    "    \n",
    "    return features, pad_cnt, non_pad_cnt"
   ]
  },
  {
   "cell_type": "code",
   "execution_count": 5,
   "metadata": {},
   "outputs": [
    {
     "name": "stderr",
     "output_type": "stream",
     "text": [
      "get features.....: 535it [00:22, 24.15it/s]\n"
     ]
    }
   ],
   "source": [
    "features, pad_cnt, non_pad_cnt = get_feature(wav_paths)"
   ]
  },
  {
   "cell_type": "code",
   "execution_count": 6,
   "metadata": {},
   "outputs": [
    {
     "data": {
      "text/plain": [
       "(507, 28)"
      ]
     },
     "execution_count": 6,
     "metadata": {},
     "output_type": "execute_result"
    }
   ],
   "source": [
    "pad_cnt, non_pad_cnt"
   ]
  },
  {
   "cell_type": "code",
   "execution_count": 6,
   "metadata": {},
   "outputs": [
    {
     "data": {
      "text/plain": [
       "(196, 39)"
      ]
     },
     "execution_count": 6,
     "metadata": {},
     "output_type": "execute_result"
    }
   ],
   "source": [
    "features[0].shape"
   ]
  },
  {
   "cell_type": "code",
   "execution_count": 7,
   "metadata": {},
   "outputs": [],
   "source": [
    "X = np.array(features)\n",
    "y = np.array(emotions)"
   ]
  },
  {
   "cell_type": "code",
   "execution_count": 8,
   "metadata": {},
   "outputs": [
    {
     "name": "stdout",
     "output_type": "stream",
     "text": [
      "(535, 196, 39) (535,)\n"
     ]
    }
   ],
   "source": [
    "print(X.shape, y.shape)\n",
    "\n",
    "os.makedirs('TIMNET-dataset', exist_ok=True)\n",
    "with open('TIMNET-dataset/EMODB.npy', 'wb') as f:\n",
    "    np.save(f, X)\n",
    "    np.save(f, y)"
   ]
  }
 ],
 "metadata": {
  "kernelspec": {
   "display_name": "ser-tf",
   "language": "python",
   "name": "python3"
  },
  "language_info": {
   "codemirror_mode": {
    "name": "ipython",
    "version": 3
   },
   "file_extension": ".py",
   "mimetype": "text/x-python",
   "name": "python",
   "nbconvert_exporter": "python",
   "pygments_lexer": "ipython3",
   "version": "3.8.15 | packaged by conda-forge | (default, Nov 22 2022, 08:42:03) [MSC v.1929 64 bit (AMD64)]"
  },
  "vscode": {
   "interpreter": {
    "hash": "8cc79f3bff38b9826e331232bfe618f732509f3c8555218b497f1264fcaa8b42"
   }
  }
 },
 "nbformat": 4,
 "nbformat_minor": 2
}
