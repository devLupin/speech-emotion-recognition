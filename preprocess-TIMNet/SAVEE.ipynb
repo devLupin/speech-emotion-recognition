{
 "cells": [
  {
   "cell_type": "code",
   "execution_count": 1,
   "metadata": {},
   "outputs": [],
   "source": [
    "import librosa\n",
    "import librosa.display as librosa_display\n",
    "import matplotlib.pyplot as plt\n",
    "import numpy as np\n",
    "from tqdm import tqdm\n",
    "from pathlib import Path\n",
    "import pandas as pd\n",
    "import os\n",
    "import time"
   ]
  },
  {
   "cell_type": "code",
   "execution_count": 2,
   "metadata": {},
   "outputs": [],
   "source": [
    "def prepare_SAVEE_DS(path_audios):\n",
    "    wav_paths, emotions, actors = [], [], []\n",
    "    \n",
    "    for path in tqdm(Path(path_audios).glob(\"*/*.wav\")):\n",
    "        actor = str(path).split('\\\\')[-2]\n",
    "        \n",
    "        emotion = None\n",
    "        emo = path.stem\n",
    "        if emo[0]=='a':\n",
    "            emotion = 0\n",
    "        elif emo[0]=='d':\n",
    "            emotion = 1\n",
    "        elif emo[0]=='f':\n",
    "            emotion = 2\n",
    "        elif emo[0]=='h':\n",
    "            emotion = 3\n",
    "        elif emo[0]=='n':\n",
    "            emotion = 4\n",
    "        elif emo[:2]=='sa':\n",
    "            emotion = 5\n",
    "        elif emo[:2]=='su':\n",
    "            emotion = 6\n",
    "            \n",
    "        wav_paths.append(path)\n",
    "        emotions.append(emotion)\n",
    "        actors.append(actor)\n",
    "    \n",
    "    return wav_paths, emotions, actors\n",
    "        "
   ]
  },
  {
   "cell_type": "code",
   "execution_count": 3,
   "metadata": {},
   "outputs": [
    {
     "name": "stderr",
     "output_type": "stream",
     "text": [
      "480it [00:00, 120396.24it/s]\n"
     ]
    }
   ],
   "source": [
    "wav_paths, emotions, actors = prepare_SAVEE_DS('SAVEE')"
   ]
  },
  {
   "cell_type": "code",
   "execution_count": 4,
   "metadata": {},
   "outputs": [],
   "source": [
    "mean_signal_length = 100000\n",
    "\n",
    "def get_feature(paths:str, mfcc_len:int=39, flatten:bool=False):\n",
    "    features = []\n",
    "    \n",
    "    for i, path, in tqdm(enumerate(paths), desc='get features.....'):\n",
    "        signal, fs = librosa.load(path)\n",
    "        s_len = len(signal)\n",
    "        \n",
    "        if s_len < mean_signal_length:\n",
    "            pad_len = mean_signal_length - s_len\n",
    "            pad_rem = pad_len % 2\n",
    "            pad_len //= 2\n",
    "            signal = np.pad(signal, (pad_len, pad_len+pad_rem), 'constant', constant_values=0)\n",
    "            \n",
    "        else:\n",
    "            pad_len = s_len - mean_signal_length\n",
    "            pad_len //= 2\n",
    "            signal = signal[pad_len:pad_len + mean_signal_length]\n",
    "            \n",
    "        mfcc = librosa.feature.mfcc(y=signal, sr=fs, n_mfcc=39)\n",
    "        mfcc = mfcc.T\n",
    "        \n",
    "        features.append(mfcc)\n",
    "    \n",
    "    return features"
   ]
  },
  {
   "cell_type": "code",
   "execution_count": 5,
   "metadata": {},
   "outputs": [
    {
     "name": "stderr",
     "output_type": "stream",
     "text": [
      "get features.....: 480it [00:46, 10.39it/s]\n"
     ]
    }
   ],
   "source": [
    "features = get_feature(wav_paths)"
   ]
  },
  {
   "cell_type": "code",
   "execution_count": 6,
   "metadata": {},
   "outputs": [
    {
     "data": {
      "text/plain": [
       "(196, 39)"
      ]
     },
     "execution_count": 6,
     "metadata": {},
     "output_type": "execute_result"
    }
   ],
   "source": [
    "features[0].shape"
   ]
  },
  {
   "cell_type": "code",
   "execution_count": 7,
   "metadata": {},
   "outputs": [],
   "source": [
    "X = np.array(features)\n",
    "y = np.array(emotions)"
   ]
  },
  {
   "cell_type": "code",
   "execution_count": 8,
   "metadata": {},
   "outputs": [
    {
     "name": "stdout",
     "output_type": "stream",
     "text": [
      "(480, 196, 39) (480,)\n"
     ]
    }
   ],
   "source": [
    "print(X.shape, y.shape)\n",
    "\n",
    "os.makedirs('TIMNET-dataset', exist_ok=True)\n",
    "with open('TIMNET-dataset/SAVEE.npy', 'wb') as f:\n",
    "    np.save(f, X)\n",
    "    np.save(f, y)"
   ]
  }
 ],
 "metadata": {
  "kernelspec": {
   "display_name": "Python 3.8.14 ('ser')",
   "language": "python",
   "name": "python3"
  },
  "language_info": {
   "codemirror_mode": {
    "name": "ipython",
    "version": 3
   },
   "file_extension": ".py",
   "mimetype": "text/x-python",
   "name": "python",
   "nbconvert_exporter": "python",
   "pygments_lexer": "ipython3",
   "version": "3.8.14"
  },
  "vscode": {
   "interpreter": {
    "hash": "5be54bb8ddc52e76cc18bd1012223019b9a180863a571d33caf1c2c34a734fb0"
   }
  }
 },
 "nbformat": 4,
 "nbformat_minor": 2
}
