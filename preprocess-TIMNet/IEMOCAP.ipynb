{
 "cells": [
  {
   "cell_type": "code",
   "execution_count": 1,
   "metadata": {},
   "outputs": [],
   "source": [
    "import librosa\n",
    "import librosa.display as librosa_display\n",
    "import matplotlib.pyplot as plt\n",
    "import numpy as np\n",
    "from tqdm import tqdm\n",
    "from pathlib import Path\n",
    "import pandas as pd\n",
    "import os\n",
    "import time"
   ]
  },
  {
   "cell_type": "code",
   "execution_count": 2,
   "metadata": {},
   "outputs": [],
   "source": [
    "import json\n",
    "\n",
    "def prepare_IEMOCAP_DS(json_path):\n",
    "    wav_paths, emotions = [], []\n",
    "    empty_cnt = 0\n",
    "    \n",
    "    f = open(json_path)\n",
    "    lines = f.readlines()\n",
    "    for l in lines:\n",
    "        cur = eval(l)\n",
    "        emotion = cur['emotion']\n",
    "        wav_path = cur['key']\n",
    "        \n",
    "        if emotion == \"xxx\":\n",
    "            continue\n",
    "        \n",
    "        # ang, hap, neu, sad\n",
    "        if emotion == \"ang\":\n",
    "            wav_paths.append(wav_path)\n",
    "            emotions.append(0)\n",
    "        elif emotion == \"neu\":\n",
    "            wav_paths.append(wav_path)\n",
    "            emotions.append(1)\n",
    "        elif emotion == \"sad\":\n",
    "            wav_paths.append(wav_path)\n",
    "            emotions.append(2)\n",
    "        elif emotion == \"hap\" or emotion == \"exc\":\n",
    "            wav_paths.append(wav_path)\n",
    "            emotions.append(3)\n",
    "        \n",
    "    return wav_paths, emotions, empty_cnt"
   ]
  },
  {
   "cell_type": "code",
   "execution_count": 3,
   "metadata": {},
   "outputs": [],
   "source": [
    "wav_paths, emotions, empty_cnt = prepare_IEMOCAP_DS('iemocap_data_single_all_10.json')"
   ]
  },
  {
   "cell_type": "code",
   "execution_count": 4,
   "metadata": {},
   "outputs": [
    {
     "data": {
      "text/plain": [
       "(5531, 5531, 0)"
      ]
     },
     "execution_count": 4,
     "metadata": {},
     "output_type": "execute_result"
    }
   ],
   "source": [
    "len(wav_paths), len(emotions), empty_cnt"
   ]
  },
  {
   "cell_type": "code",
   "execution_count": 5,
   "metadata": {},
   "outputs": [],
   "source": [
    "mean_signal_length = 100000\n",
    "\n",
    "def get_feature(paths:str, mfcc_len:int=39, flatten:bool=False):\n",
    "    features = []\n",
    "    pad_cnt, non_pad_cnt = 0, 0\n",
    "    \n",
    "    for i, path, in tqdm(enumerate(paths), desc='get features.....'):\n",
    "        signal, fs = librosa.load(path)\n",
    "        s_len = len(signal)\n",
    "        \n",
    "        if s_len < mean_signal_length:\n",
    "            pad_len = mean_signal_length - s_len\n",
    "            pad_rem = pad_len % 2\n",
    "            pad_len //= 2\n",
    "            signal = np.pad(signal, (pad_len, pad_len+pad_rem), 'constant', constant_values=0)\n",
    "            \n",
    "            pad_cnt += 1\n",
    "            \n",
    "        else:\n",
    "            pad_len = s_len - mean_signal_length\n",
    "            pad_len //= 2\n",
    "            signal = signal[pad_len:pad_len + mean_signal_length]\n",
    "            \n",
    "            non_pad_cnt += 1\n",
    "            \n",
    "        mfcc = librosa.feature.mfcc(y=signal, sr=fs, n_mfcc=39)\n",
    "        mfcc = mfcc.T\n",
    "        \n",
    "        features.append(mfcc)\n",
    "    \n",
    "    return features, pad_cnt, non_pad_cnt"
   ]
  },
  {
   "cell_type": "code",
   "execution_count": 6,
   "metadata": {},
   "outputs": [
    {
     "name": "stderr",
     "output_type": "stream",
     "text": [
      "get features.....: 5531it [05:13, 17.66it/s]\n"
     ]
    }
   ],
   "source": [
    "features, pad_cnt, non_pad_cnt = get_feature(wav_paths)"
   ]
  },
  {
   "cell_type": "code",
   "execution_count": 7,
   "metadata": {},
   "outputs": [
    {
     "data": {
      "text/plain": [
       "(3509, 2022)"
      ]
     },
     "execution_count": 7,
     "metadata": {},
     "output_type": "execute_result"
    }
   ],
   "source": [
    "pad_cnt, non_pad_cnt"
   ]
  },
  {
   "cell_type": "code",
   "execution_count": 7,
   "metadata": {},
   "outputs": [
    {
     "data": {
      "text/plain": [
       "(196, 39)"
      ]
     },
     "execution_count": 7,
     "metadata": {},
     "output_type": "execute_result"
    }
   ],
   "source": [
    "features[0].shape"
   ]
  },
  {
   "cell_type": "code",
   "execution_count": 8,
   "metadata": {},
   "outputs": [],
   "source": [
    "X = np.array(features)\n",
    "y = np.array(emotions)"
   ]
  },
  {
   "cell_type": "code",
   "execution_count": 9,
   "metadata": {},
   "outputs": [
    {
     "name": "stdout",
     "output_type": "stream",
     "text": [
      "(5531, 196, 39) (5531,)\n"
     ]
    }
   ],
   "source": [
    "print(X.shape, y.shape)\n",
    "\n",
    "with open('IEMOCAP.npy', 'wb') as f:\n",
    "    np.save(f, X)\n",
    "    np.save(f, y)"
   ]
  },
  {
   "cell_type": "code",
   "execution_count": 10,
   "metadata": {},
   "outputs": [
    {
     "name": "stdout",
     "output_type": "stream",
     "text": [
      "0\n",
      "1\n",
      "2\n",
      "3\n"
     ]
    }
   ],
   "source": [
    "set_emotions = set(emotions)\n",
    "list_res = (list(set_emotions))\n",
    "\n",
    "for item in list_res:\n",
    "    print(item)"
   ]
  },
  {
   "cell_type": "code",
   "execution_count": 11,
   "metadata": {},
   "outputs": [
    {
     "name": "stdout",
     "output_type": "stream",
     "text": [
      "[0, 1, 2, 3]\n"
     ]
    }
   ],
   "source": [
    "from natsort import natsorted\n",
    "\n",
    "list_res = natsorted(list_res)\n",
    "print(list_res)"
   ]
  },
  {
   "cell_type": "code",
   "execution_count": 12,
   "metadata": {},
   "outputs": [
    {
     "data": {
      "text/plain": [
       "dict_keys([1, 0, 2, 3])"
      ]
     },
     "execution_count": 12,
     "metadata": {},
     "output_type": "execute_result"
    }
   ],
   "source": [
    "from collections import Counter\n",
    "\n",
    "Counter(emotions).keys() # equals to list(set(words))"
   ]
  },
  {
   "cell_type": "code",
   "execution_count": 13,
   "metadata": {},
   "outputs": [
    {
     "data": {
      "text/plain": [
       "dict_values([1708, 1103, 1084, 1636])"
      ]
     },
     "execution_count": 13,
     "metadata": {},
     "output_type": "execute_result"
    }
   ],
   "source": [
    "Counter(emotions).values() # counts the elements' frequency"
   ]
  },
  {
   "cell_type": "code",
   "execution_count": 14,
   "metadata": {},
   "outputs": [],
   "source": [
    "# angry, excited, fear, sad, surprised, frustrated, happy, disappointed, neutral\n",
    "# 1103, "
   ]
  }
 ],
 "metadata": {
  "kernelspec": {
   "display_name": "ser-tf",
   "language": "python",
   "name": "python3"
  },
  "language_info": {
   "codemirror_mode": {
    "name": "ipython",
    "version": 3
   },
   "file_extension": ".py",
   "mimetype": "text/x-python",
   "name": "python",
   "nbconvert_exporter": "python",
   "pygments_lexer": "ipython3",
   "version": "3.8.15"
  },
  "vscode": {
   "interpreter": {
    "hash": "8cc79f3bff38b9826e331232bfe618f732509f3c8555218b497f1264fcaa8b42"
   }
  }
 },
 "nbformat": 4,
 "nbformat_minor": 2
}
