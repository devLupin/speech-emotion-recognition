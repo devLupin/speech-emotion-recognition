{
 "cells": [
  {
   "cell_type": "code",
   "execution_count": null,
   "metadata": {},
   "outputs": [],
   "source": [
    "import librosa\n",
    "import librosa.display as librosa_display\n",
    "import matplotlib.pyplot as plt\n",
    "import numpy as np\n",
    "from tqdm import tqdm\n",
    "from pathlib import Path\n",
    "import pandas as pd\n",
    "import os\n",
    "import time"
   ]
  },
  {
   "cell_type": "code",
   "execution_count": null,
   "metadata": {},
   "outputs": [],
   "source": [
    "def prepare_CREMA_DS(path_audios):\n",
    "    wav_paths, emotions, actors = [], [], []\n",
    "    \n",
    "    for path in tqdm(Path(path_audios).glob(\"*.wav\")):\n",
    "        f = str(path)\n",
    "        \n",
    "        emotion = None\n",
    "        emo = f.split('_')[2]\n",
    "        if emo == 'SAD':\n",
    "            emotion = 0\n",
    "        elif emo == 'ANG':\n",
    "            emotion = 1\n",
    "        elif emo == 'DIS':\n",
    "            emotion = 2\n",
    "        elif emo == 'FEA':\n",
    "            emotion = 3\n",
    "        elif emo == 'HAP':\n",
    "            emotion = 4\n",
    "        elif emo == 'NEU':\n",
    "            emotion = 5\n",
    "                    \n",
    "        wav_paths.append(path)\n",
    "        emotions.append(emotion)\n",
    "        actors.append(int(path.stem.split('_')[0]) - 1001)\n",
    "    \n",
    "    return wav_paths, emotions, actors        "
   ]
  },
  {
   "cell_type": "code",
   "execution_count": null,
   "metadata": {},
   "outputs": [],
   "source": [
    "wav_paths, emotions, actors = prepare_CREMA_DS('CREMA-D')"
   ]
  },
  {
   "cell_type": "code",
   "execution_count": null,
   "metadata": {},
   "outputs": [],
   "source": [
    "max(actors), min(actors)"
   ]
  },
  {
   "cell_type": "code",
   "execution_count": null,
   "metadata": {},
   "outputs": [],
   "source": [
    "len(wav_paths)"
   ]
  },
  {
   "cell_type": "code",
   "execution_count": null,
   "metadata": {},
   "outputs": [],
   "source": [
    "sample_rate = 16000\n",
    "\n",
    "frame_length = 0.05\n",
    "frame_stride = 0.0125"
   ]
  },
  {
   "cell_type": "code",
   "execution_count": null,
   "metadata": {},
   "outputs": [],
   "source": [
    "mean_signal_length = 100000\n",
    "\n",
    "def get_feature(paths:str, mfcc_len:int=39, flatten:bool=False):\n",
    "    features = []\n",
    "    \n",
    "    for i, path, in tqdm(enumerate(paths), desc='get features.....'):\n",
    "        signal, fs = librosa.load(path)\n",
    "        s_len = len(signal)\n",
    "        \n",
    "        if s_len < mean_signal_length:\n",
    "            pad_len = mean_signal_length - s_len\n",
    "            pad_rem = pad_len % 2\n",
    "            pad_len //= 2\n",
    "            signal = np.pad(signal, (pad_len, pad_len+pad_rem), 'constant', constant_values=0)\n",
    "            \n",
    "        else:\n",
    "            pad_len = s_len - mean_signal_length\n",
    "            pad_len //= 2\n",
    "            signal = signal[pad_len:pad_len + mean_signal_length]\n",
    "            \n",
    "        mfcc = librosa.feature.mfcc(y=signal, sr=fs, n_mfcc=39)\n",
    "        mfcc = mfcc.T\n",
    "        \n",
    "        features.append(mfcc)\n",
    "    \n",
    "    return features"
   ]
  },
  {
   "cell_type": "code",
   "execution_count": 11,
   "metadata": {},
   "outputs": [
    {
     "name": "stderr",
     "output_type": "stream",
     "text": [
      "get features.....: 7442it [05:04, 24.46it/s]\n"
     ]
    }
   ],
   "source": [
    "features = get_feature(wav_paths)"
   ]
  },
  {
   "cell_type": "code",
   "execution_count": 15,
   "metadata": {},
   "outputs": [
    {
     "data": {
      "text/plain": [
       "(196, 39)"
      ]
     },
     "execution_count": 15,
     "metadata": {},
     "output_type": "execute_result"
    }
   ],
   "source": [
    "features[0].shape"
   ]
  },
  {
   "cell_type": "code",
   "execution_count": 20,
   "metadata": {},
   "outputs": [],
   "source": [
    "X = np.array(features)\n",
    "y = np.array(emotions)"
   ]
  },
  {
   "cell_type": "code",
   "execution_count": 21,
   "metadata": {},
   "outputs": [
    {
     "name": "stdout",
     "output_type": "stream",
     "text": [
      "(7442, 196, 39) (7442,)\n"
     ]
    }
   ],
   "source": [
    "print(X.shape, y.shape)\n",
    "\n",
    "os.makedirs('TIMNET-dataset', exist_ok=True)\n",
    "with open('TIMNET-dataset/CREMA.npy', 'wb') as f:\n",
    "    np.save(f, X)\n",
    "    np.save(f, y)"
   ]
  },
  {
   "cell_type": "code",
   "execution_count": null,
   "metadata": {},
   "outputs": [],
   "source": []
  }
 ],
 "metadata": {
  "kernelspec": {
   "display_name": "ser-tf",
   "language": "python",
   "name": "python3"
  },
  "language_info": {
   "codemirror_mode": {
    "name": "ipython",
    "version": 3
   },
   "file_extension": ".py",
   "mimetype": "text/x-python",
   "name": "python",
   "nbconvert_exporter": "python",
   "pygments_lexer": "ipython3",
   "version": "3.8.15"
  },
  "vscode": {
   "interpreter": {
    "hash": "8cc79f3bff38b9826e331232bfe618f732509f3c8555218b497f1264fcaa8b42"
   }
  }
 },
 "nbformat": 4,
 "nbformat_minor": 2
}
