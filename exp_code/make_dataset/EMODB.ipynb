{
 "cells": [
  {
   "cell_type": "code",
   "execution_count": 1,
   "metadata": {},
   "outputs": [],
   "source": [
    "import librosa\n",
    "import librosa.display as librosa_display\n",
    "import matplotlib.pyplot as plt\n",
    "import numpy as np\n",
    "from tqdm import tqdm\n",
    "from pathlib import Path\n",
    "import pandas as pd\n",
    "import os\n",
    "import time\n",
    "from torchaudio.functional import compute_deltas\n",
    "import torch\n",
    "from natsort import natsorted"
   ]
  },
  {
   "cell_type": "code",
   "execution_count": 2,
   "metadata": {},
   "outputs": [],
   "source": [
    "\n",
    "label2name = {\n",
    "    \"L\": 0,\n",
    "    \"A\": 1,\n",
    "    \"E\": 2,\n",
    "    \"F\": 3,\n",
    "    \"T\": 4,\n",
    "    \"W\": 5,\n",
    "    \"N\": 6\n",
    "}\n",
    "\n",
    "def prepare_EMODB(data_root):\n",
    "    dirs = os.listdir(data_root)\n",
    "    dirs = natsorted(dirs)\n",
    "    \n",
    "    paths, emotions, actors = [], [], []\n",
    "    \n",
    "    for d in dirs:\n",
    "        cur = os.path.join(data_root, d)\n",
    "        \n",
    "        paths.append(cur)\n",
    "        emotions.append(label2name[d[5]])\n",
    "        actors.append(d[:2])\n",
    "    \n",
    "    return paths, emotions, actors"
   ]
  },
  {
   "cell_type": "code",
   "execution_count": 3,
   "metadata": {},
   "outputs": [],
   "source": [
    "wav_paths, emotions, actors = prepare_EMODB('EMO-DB')"
   ]
  },
  {
   "cell_type": "code",
   "execution_count": 4,
   "metadata": {},
   "outputs": [],
   "source": [
    "sample_rate = 16000\n",
    "\n",
    "frame_length = 0.05\n",
    "frame_stride = 0.0125"
   ]
  },
  {
   "cell_type": "code",
   "execution_count": 5,
   "metadata": {},
   "outputs": [],
   "source": [
    "def get_features(paths):\n",
    "    data = []\n",
    "    sz = []\n",
    "    for i, path, in tqdm(enumerate(paths), desc='get features, size.....'):\n",
    "        input_nfft = int(round(sample_rate*frame_length))\n",
    "        input_stride = int(round(sample_rate*frame_stride))\n",
    "        \n",
    "        y, _ = librosa.load(path, sr=sample_rate)\n",
    "        \n",
    "        S = librosa.feature.melspectrogram(y=y, sr=sample_rate, n_mels=128, n_fft=input_nfft, window='hamming', hop_length=input_stride)\n",
    "        log_S = librosa.power_to_db(S, ref=np.max)\n",
    "        \n",
    "        mfcc = librosa.feature.mfcc(S=log_S, n_mfcc=39)\n",
    "        \n",
    "        data.append(mfcc)\n",
    "        sz.append(mfcc.shape[1])\n",
    "        \n",
    "    return data, sz"
   ]
  },
  {
   "cell_type": "code",
   "execution_count": 6,
   "metadata": {},
   "outputs": [
    {
     "name": "stderr",
     "output_type": "stream",
     "text": [
      "get features, size.....: 535it [00:01, 355.01it/s]\n"
     ]
    }
   ],
   "source": [
    "features, sz = get_features(wav_paths)"
   ]
  },
  {
   "cell_type": "code",
   "execution_count": 7,
   "metadata": {},
   "outputs": [],
   "source": [
    "def make_df(features, emotions, actors, sz):\n",
    "    data = []\n",
    "    \n",
    "    for i, feature in tqdm(enumerate(features), desc='Make dataframe.....'):\n",
    "        mfcc_feature = np.zeros((39, sz))\n",
    "        mfcc_feature = feature[:,:sz]\n",
    "        \n",
    "        data.append({\n",
    "            'feature': mfcc_feature,\n",
    "            'emotion': emotions[i],\n",
    "            'actor': actors[i]\n",
    "        })\n",
    "    \n",
    "    return pd.DataFrame(data)    "
   ]
  },
  {
   "cell_type": "code",
   "execution_count": 8,
   "metadata": {},
   "outputs": [
    {
     "name": "stderr",
     "output_type": "stream",
     "text": [
      "Make dataframe.....: 535it [00:00, 534401.68it/s]\n"
     ]
    }
   ],
   "source": [
    "df = make_df(features, emotions, actors, min(sz))"
   ]
  },
  {
   "cell_type": "code",
   "execution_count": 9,
   "metadata": {},
   "outputs": [],
   "source": [
    "def get_fold(fold, df):\n",
    "    \"\"\"\n",
    "    Divide the data in train and test in a subject-wise 5-CV way. The division is generated before running the training\n",
    "    of each fold.\n",
    "    :param fold:[int] Fold to create the train and test sets [ranging from 0 - 4]\n",
    "    :param df:[DataFrame] Dataframe with the complete list of files generated\n",
    "    :param save_path:[str] Path to save the train.csv and test.csv per fold\n",
    "    \"\"\"\n",
    "    \n",
    "    actors_per_fold = {\n",
    "        0: ['03'],\n",
    "        1: ['08'],\n",
    "        2: ['09'],\n",
    "        3: ['10'],\n",
    "        4: ['11'],\n",
    "        5: ['12'],\n",
    "        6: ['13'],\n",
    "        7: ['14'],\n",
    "        8: ['15'],\n",
    "        9: ['16']\n",
    "    }\n",
    "\n",
    "    df = df.loc[df['actor'].isin(actors_per_fold[fold])]\n",
    "    \n",
    "    X = np.array([data for data in df['feature']])\n",
    "    y = np.array([data for data in df['emotion']])\n",
    "    \n",
    "    # with open(save_path+'.npy', 'wb') as f:\n",
    "    #     np.save(f, X_train)\n",
    "    #     np.save(f, y_train)\n",
    "    #     np.save(f, X_test)\n",
    "    #     np.save(f, y_test)\n",
    "        \n",
    "    return np.array(X), np.array(y)"
   ]
  },
  {
   "cell_type": "code",
   "execution_count": 10,
   "metadata": {},
   "outputs": [],
   "source": [
    "X_dataset = []\n",
    "y_dataset = []\n",
    "for fold in range(10):\n",
    "    X, y = get_fold(fold, df)\n",
    "    X_dataset.append(X)\n",
    "    y_dataset.append(y)"
   ]
  },
  {
   "cell_type": "code",
   "execution_count": 11,
   "metadata": {},
   "outputs": [
    {
     "name": "stdout",
     "output_type": "stream",
     "text": [
      "(49, 39, 99)\n"
     ]
    }
   ],
   "source": [
    "print(X_dataset[0].shape)"
   ]
  },
  {
   "cell_type": "code",
   "execution_count": 12,
   "metadata": {},
   "outputs": [],
   "source": [
    "X = X_dataset[0]\n",
    "y = y_dataset[0]\n",
    "for fold in range(1, 10):\n",
    "    X = np.concatenate((X, X_dataset[fold]), axis=0)\n",
    "    y = np.concatenate((y, y_dataset[fold]), axis=0)\n",
    "\n",
    "X = np.expand_dims(X, -1)\n",
    "\n",
    "os.makedirs('dataset', exist_ok=True)\n",
    "with open('dataset/EMODB.npy', 'wb') as f:\n",
    "    np.save(f, X)\n",
    "    np.save(f, y)"
   ]
  },
  {
   "cell_type": "code",
   "execution_count": 13,
   "metadata": {},
   "outputs": [
    {
     "name": "stdout",
     "output_type": "stream",
     "text": [
      "(535, 39, 99, 1)\n"
     ]
    }
   ],
   "source": [
    "print(X.shape)"
   ]
  },
  {
   "cell_type": "code",
   "execution_count": null,
   "metadata": {},
   "outputs": [],
   "source": []
  }
 ],
 "metadata": {
  "kernelspec": {
   "display_name": "Python 3.8.14 ('ser')",
   "language": "python",
   "name": "python3"
  },
  "language_info": {
   "codemirror_mode": {
    "name": "ipython",
    "version": 3
   },
   "file_extension": ".py",
   "mimetype": "text/x-python",
   "name": "python",
   "nbconvert_exporter": "python",
   "pygments_lexer": "ipython3",
   "version": "3.8.14"
  },
  "vscode": {
   "interpreter": {
    "hash": "5be54bb8ddc52e76cc18bd1012223019b9a180863a571d33caf1c2c34a734fb0"
   }
  }
 },
 "nbformat": 4,
 "nbformat_minor": 2
}
