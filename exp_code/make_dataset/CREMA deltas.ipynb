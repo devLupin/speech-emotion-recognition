{
 "cells": [
  {
   "cell_type": "code",
   "execution_count": 1,
   "metadata": {},
   "outputs": [],
   "source": [
    "import librosa\n",
    "import librosa.display as librosa_display\n",
    "import matplotlib.pyplot as plt\n",
    "import numpy as np\n",
    "from tqdm import tqdm\n",
    "from pathlib import Path\n",
    "import pandas as pd\n",
    "import os\n",
    "import time\n",
    "from torchaudio.functional import compute_deltas\n",
    "import torch"
   ]
  },
  {
   "cell_type": "code",
   "execution_count": 2,
   "metadata": {},
   "outputs": [],
   "source": [
    "def prepare_CREMA_DS(path_audios):\n",
    "    wav_paths, emotions, actors = [], [], []\n",
    "    \n",
    "    for path in tqdm(Path(path_audios).glob(\"*.wav\")):\n",
    "        f = str(path)\n",
    "        \n",
    "        emotion = None\n",
    "        emo = f.split('_')[2]\n",
    "        if emo == 'SAD':\n",
    "            emotion = 0\n",
    "        elif emo == 'ANG':\n",
    "            emotion = 1\n",
    "        elif emo == 'DIS':\n",
    "            emotion = 2\n",
    "        elif emo == 'FEA':\n",
    "            emotion = 3\n",
    "        elif emo == 'HAP':\n",
    "            emotion = 4\n",
    "        elif emo == 'NEU':\n",
    "            emotion = 5\n",
    "                    \n",
    "        wav_paths.append(path)\n",
    "        emotions.append(emotion)\n",
    "        actors.append(int(path.stem.split('_')[0]) - 1001)\n",
    "    \n",
    "    return wav_paths, emotions, actors        "
   ]
  },
  {
   "cell_type": "code",
   "execution_count": 3,
   "metadata": {},
   "outputs": [
    {
     "name": "stderr",
     "output_type": "stream",
     "text": [
      "7442it [00:00, 225515.20it/s]\n"
     ]
    }
   ],
   "source": [
    "wav_paths, emotions, actors = prepare_CREMA_DS('CREMA-D')"
   ]
  },
  {
   "cell_type": "code",
   "execution_count": 4,
   "metadata": {},
   "outputs": [
    {
     "data": {
      "text/plain": [
       "(90, 0)"
      ]
     },
     "execution_count": 4,
     "metadata": {},
     "output_type": "execute_result"
    }
   ],
   "source": [
    "max(actors), min(actors)"
   ]
  },
  {
   "cell_type": "code",
   "execution_count": 5,
   "metadata": {},
   "outputs": [
    {
     "data": {
      "text/plain": [
       "7442"
      ]
     },
     "execution_count": 5,
     "metadata": {},
     "output_type": "execute_result"
    }
   ],
   "source": [
    "len(wav_paths)"
   ]
  },
  {
   "cell_type": "code",
   "execution_count": 6,
   "metadata": {},
   "outputs": [],
   "source": [
    "sample_rate = 16000\n",
    "\n",
    "frame_length = 0.05\n",
    "frame_stride = 0.0125"
   ]
  },
  {
   "cell_type": "code",
   "execution_count": 7,
   "metadata": {},
   "outputs": [],
   "source": [
    "def get_features(paths):\n",
    "    data = []\n",
    "    sz = []\n",
    "    for i, path, in tqdm(enumerate(paths), desc='get features, size.....'):\n",
    "        input_nfft = int(round(sample_rate*frame_length))\n",
    "        input_stride = int(round(sample_rate*frame_stride))\n",
    "        \n",
    "        y, _ = librosa.load(path, sr=sample_rate)\n",
    "        \n",
    "        S = librosa.feature.melspectrogram(y=y, sr=sample_rate, n_mels=128, n_fft=input_nfft, window='hamming', hop_length=input_stride)\n",
    "        log_S = librosa.power_to_db(S, ref=np.max)\n",
    "        \n",
    "        mfcc = librosa.feature.mfcc(S=log_S, n_mfcc=39)\n",
    "        \n",
    "        data.append(mfcc)\n",
    "        sz.append(mfcc.shape[1])\n",
    "        \n",
    "    return data, sz"
   ]
  },
  {
   "cell_type": "code",
   "execution_count": 8,
   "metadata": {},
   "outputs": [
    {
     "name": "stderr",
     "output_type": "stream",
     "text": [
      "get features, size.....: 7442it [00:22, 337.12it/s]\n"
     ]
    }
   ],
   "source": [
    "features, sz = get_features(wav_paths)"
   ]
  },
  {
   "cell_type": "code",
   "execution_count": 9,
   "metadata": {},
   "outputs": [],
   "source": [
    "def make_df(features, emotions, actors, sz):\n",
    "    data = []\n",
    "    \n",
    "    for i, feature in tqdm(enumerate(features), desc='Make dataframe.....'):\n",
    "        mfcc_feature = np.zeros((39, sz))\n",
    "        mfcc_feature = feature[:,:sz]\n",
    "        \n",
    "        data.append({\n",
    "            'feature': mfcc_feature,\n",
    "            'emotion': emotions[i],\n",
    "            'actor': actors[i]\n",
    "        })\n",
    "    \n",
    "    return pd.DataFrame(data)    "
   ]
  },
  {
   "cell_type": "code",
   "execution_count": 10,
   "metadata": {},
   "outputs": [
    {
     "name": "stderr",
     "output_type": "stream",
     "text": [
      "Make dataframe.....: 7442it [00:00, 121999.78it/s]\n"
     ]
    }
   ],
   "source": [
    "df = make_df(features, emotions, actors, min(sz))"
   ]
  },
  {
   "cell_type": "code",
   "execution_count": 11,
   "metadata": {},
   "outputs": [],
   "source": [
    "def get_deltas(feature):\n",
    "    f = np.expand_dims(feature, -1)\n",
    "    f = torch.Tensor(f)\n",
    "    \n",
    "    delta = compute_deltas(f, win_length=7)\n",
    "    delta2 = compute_deltas(delta, win_length=7)\n",
    "    \n",
    "    ret = torch.cat([f, delta, delta2], dim=-1)\n",
    "    \n",
    "    return ret"
   ]
  },
  {
   "cell_type": "code",
   "execution_count": 12,
   "metadata": {},
   "outputs": [],
   "source": [
    "def get_fold(fold, df):\n",
    "    \"\"\"\n",
    "    Divide the data in train and test in a subject-wise 5-CV way. The division is generated before running the training\n",
    "    of each fold.\n",
    "    :param fold:[int] Fold to create the train and test sets [ranging from 0 - 4]\n",
    "    :param df:[DataFrame] Dataframe with the complete list of files generated\n",
    "    :param save_path:[str] Path to save the train.csv and test.csv per fold\n",
    "    \"\"\"\n",
    "    \n",
    "    actors_per_fold = {\n",
    "        0: [i for i in range(0,18)],\n",
    "        1: [i for i in range(18,36)],\n",
    "        2: [i for i in range(36,54)],\n",
    "        3: [i for i in range(54,72)],\n",
    "        4: [i for i in range(72,91)]\n",
    "    }\n",
    "\n",
    "    df = df.loc[df['actor'].isin(actors_per_fold[fold])]\n",
    "    \n",
    "    X = np.array([data for data in df['feature']])\n",
    "    y = np.array([data for data in df['emotion']])\n",
    "    \n",
    "    X = get_deltas(X)\n",
    "    \n",
    "    return np.array(X), np.array(y)"
   ]
  },
  {
   "cell_type": "code",
   "execution_count": 13,
   "metadata": {},
   "outputs": [],
   "source": [
    "X_dataset = []\n",
    "y_dataset = []\n",
    "for fold in range(5):\n",
    "    X, y = get_fold(fold, df)\n",
    "    X_dataset.append(X)\n",
    "    y_dataset.append(y)"
   ]
  },
  {
   "cell_type": "code",
   "execution_count": 14,
   "metadata": {},
   "outputs": [
    {
     "name": "stdout",
     "output_type": "stream",
     "text": [
      "(7442, 39, 102, 3) (7442,)\n"
     ]
    }
   ],
   "source": [
    "X = X_dataset[0]\n",
    "y = y_dataset[0]\n",
    "for fold in range(1, 5):\n",
    "    X = np.concatenate((X, X_dataset[fold]), axis=0)\n",
    "    y = np.concatenate((y, y_dataset[fold]), axis=0)\n",
    "\n",
    "print(X.shape, y.shape)\n",
    "\n",
    "os.makedirs('dataset', exist_ok=True)\n",
    "with open('dataset/CREMA-deltas.npy', 'wb') as f:\n",
    "    np.save(f, X)\n",
    "    np.save(f, y)"
   ]
  }
 ],
 "metadata": {
  "kernelspec": {
   "display_name": "Python 3.8.14 ('ser')",
   "language": "python",
   "name": "python3"
  },
  "language_info": {
   "codemirror_mode": {
    "name": "ipython",
    "version": 3
   },
   "file_extension": ".py",
   "mimetype": "text/x-python",
   "name": "python",
   "nbconvert_exporter": "python",
   "pygments_lexer": "ipython3",
   "version": "3.8.14"
  },
  "vscode": {
   "interpreter": {
    "hash": "5be54bb8ddc52e76cc18bd1012223019b9a180863a571d33caf1c2c34a734fb0"
   }
  }
 },
 "nbformat": 4,
 "nbformat_minor": 2
}
