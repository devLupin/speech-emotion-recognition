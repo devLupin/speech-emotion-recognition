{
 "cells": [
  {
   "cell_type": "code",
   "execution_count": 1,
   "id": "969eda08",
   "metadata": {},
   "outputs": [],
   "source": [
    "from pathlib import Path\n",
    "from tqdm import tqdm\n",
    "import csv\n",
    "import os\n",
    "import librosa\n",
    "import librosa.display\n",
    "import matplotlib.pyplot as plt\n",
    "import numpy as np\n",
    "import warnings\n",
    "from natsort import natsorted\n",
    "import pandas as pd\n",
    "\n",
    "warnings.filterwarnings(action='ignore')"
   ]
  },
  {
   "cell_type": "code",
   "execution_count": 2,
   "id": "ff36aa09",
   "metadata": {},
   "outputs": [],
   "source": [
    "def prepare_EmoDB_DS(path_audios):\n",
    "    \"\"\"\n",
    "    Generation of the dataframe with the information of the dataset. The dataframe has the following structure:\n",
    "     ______________________________________________________________________________________________________________________________\n",
    "    |             name            |                     path                                   |     emotion      |     actor     |\n",
    "    ______________________________________________________________________________________________________________________________\n",
    "    |  03a01Fa.wav                |          <EmoDB_dir>/wav/03a01Fa.wav                       |     Happiness    |      03       |\n",
    "    ______________________________________________________________________________________________________________________________\n",
    "    ...\n",
    "    :param path_audios: Path to the folder that contains all the audios in .wav format, 16kHz and single-channel(mono)\n",
    "    \"\"\"\n",
    "    dict_emotions = {\n",
    "        'W': 0,\n",
    "        'L': 1,\n",
    "        'E': 2,\n",
    "        'A': 3,\n",
    "        'F': 4,\n",
    "        'T': 5,\n",
    "        'N': 6\n",
    "    }\n",
    "    \n",
    "    listdir = os.listdir(path_audios)\n",
    "    listdir = natsorted(listdir)\n",
    "    \n",
    "    paths, emotions, actors = [], [], []\n",
    "    for path in listdir:\n",
    "        paths.append(os.path.join(path_audios, path))\n",
    "        emotions.append(dict_emotions[path[5]])\n",
    "        actors.append(path[:2])\n",
    "        \n",
    "    return paths, emotions, actors"
   ]
  },
  {
   "cell_type": "code",
   "execution_count": 3,
   "id": "0710258c",
   "metadata": {},
   "outputs": [],
   "source": [
    "paths, emotions, actors = prepare_EmoDB_DS('wav')"
   ]
  },
  {
   "cell_type": "code",
   "execution_count": null,
   "id": "48dc2e21",
   "metadata": {},
   "outputs": [],
   "source": [
    "def save_melspectrogram(save_path, paths, emotions, actors):\n",
    "    os.makedirs(save_path, exist_ok=True)\n",
    "    \n",
    "    data = []\n",
    "    for i, path in tqdm(enumerate(paths), desc='melspectrogram image generate.....'):\n",
    "        y, sr = librosa.load(path, sr=16000)\n",
    "        \n",
    "        S = librosa.feature.melspectrogram(y=y, sr=sr, n_fft=1024, win_length=512, window='hamming', hop_length=256, n_mels=256, fmax=sr/2)\n",
    "        melspectrogram = librosa.power_to_db(S, ref=np.max)\n",
    "        librosa.display.specshow(melspectrogram, sr=sr)\n",
    "        \n",
    "        melspectrogram_path = os.path.join(save_path, str(i)+'.png')\n",
    "        plt.axis('off')\n",
    "        plt.savefig(melspectrogram_path, bbox_inches='tight', pad_inches = 0)\n",
    "        \n",
    "        data.append({\n",
    "            'img': melspectrogram_path,\n",
    "            'emotion': emotions[i],\n",
    "            'actor': actors[i]\n",
    "        })\n",
    "        \n",
    "    df = pd.DataFrame(data)\n",
    "    return df"
   ]
  },
  {
   "cell_type": "code",
   "execution_count": null,
   "id": "e7b31907",
   "metadata": {},
   "outputs": [],
   "source": [
    "df = save_melspectrogram(\"melspectrogram_images\", paths, emotions, actors)"
   ]
  },
  {
   "cell_type": "code",
   "execution_count": 4,
   "id": "61b75f80",
   "metadata": {},
   "outputs": [],
   "source": [
    "def generate_train_test(fold, df, save_path=\"\"):\n",
    "    \"\"\"\n",
    "    Divide the data in train and test in a subject-wise 5-CV way. The division is generated before running the training\n",
    "    of each fold.\n",
    "    :param fold:[int] Fold to create the train and test sets [ranging from 0 - 4]\n",
    "    :param df:[DataFrame] Dataframe with the complete list of files generated\n",
    "    :param save_path:[str] Path to save the train.csv and test.csv per fold\n",
    "    \"\"\"\n",
    "    ['03', '08', '09', '10', '11', '12', '13', '14', '15', '16']\n",
    "    \n",
    "    actors_per_fold = {\n",
    "        0: ['03', '08'],\n",
    "        1: ['09', '10'],\n",
    "        2: ['11', '12'],\n",
    "        3: ['13', '14'],\n",
    "        4: ['15', '16']\n",
    "    }\n",
    "\n",
    "    test_df = df.loc[df['actor'].isin(actors_per_fold[fold])]\n",
    "    train_df = df.loc[~df['actor'].isin(actors_per_fold[fold])]\n",
    "\n",
    "    train_df = train_df.reset_index(drop=True)\n",
    "    test_df = test_df.reset_index(drop=True)\n",
    "\n",
    "    if(save_path!=\"\"):\n",
    "        train_df.to_csv(f'{save_path}/train.csv', sep=',', encoding='utf-8', index=False, header=False)\n",
    "        test_df.to_csv(f'{save_path}/test.csv', sep=',', encoding='utf-8', index=False, header=False)\n",
    "    return train_df, test_df"
   ]
  },
  {
   "cell_type": "code",
   "execution_count": 7,
   "id": "c1ce940d",
   "metadata": {},
   "outputs": [
    {
     "name": "stderr",
     "output_type": "stream",
     "text": [
      "melspectrogram image generate.....: 535it [00:00, 177457.70it/s]\n"
     ]
    }
   ],
   "source": [
    "import time\n",
    "\n",
    "df = save_melspectrogram(\"melspectrogram_images\", paths, emotions, actors)\n",
    "\n",
    "for fold in range(5):\n",
    "    \n",
    "    save_path = os.path.join('5-CV', \"fold\"+str(fold))\n",
    "    os.makedirs(save_path, exist_ok=True)\n",
    "    \n",
    "    generate_train_test(fold, df, save_path)\n",
    "    time.sleep(10)"
   ]
  },
  {
   "cell_type": "code",
   "execution_count": null,
   "id": "1598c50e",
   "metadata": {},
   "outputs": [],
   "source": []
  }
 ],
 "metadata": {
  "kernelspec": {
   "display_name": "Python 3 (ipykernel)",
   "language": "python",
   "name": "python3"
  },
  "language_info": {
   "codemirror_mode": {
    "name": "ipython",
    "version": 3
   },
   "file_extension": ".py",
   "mimetype": "text/x-python",
   "name": "python",
   "nbconvert_exporter": "python",
   "pygments_lexer": "ipython3",
   "version": "3.8.13"
  }
 },
 "nbformat": 4,
 "nbformat_minor": 5
}
