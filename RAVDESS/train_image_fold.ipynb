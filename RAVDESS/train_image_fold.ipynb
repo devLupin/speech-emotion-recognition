{
 "cells": [
  {
   "cell_type": "code",
   "execution_count": 1,
   "id": "98b669d0",
   "metadata": {},
   "outputs": [],
   "source": [
    "from pathlib import Path\n",
    "from tqdm import tqdm\n",
    "\n",
    "def prepare_RAVDESS_DS(path_audios):\n",
    "    \"\"\"\n",
    "    Generation of the dataframe with the information of the dataset. The dataframe has the following structure:\n",
    "     ______________________________________________________________________________________________________________________________\n",
    "    |             name            |                     path                                   |     emotion      |     actor     |\n",
    "    ______________________________________________________________________________________________________________________________\n",
    "    |  01-01-01-01-01-01-01.wav   |    <RAVDESS_dir>/audios_16kHz/01-01-01-01-01-01-01.wav     |     Neutral      |     1         |\n",
    "    ______________________________________________________________________________________________________________________________\n",
    "    ...\n",
    "    :param path_audios: Path to the folder that contains all the audios in .wav format, 16kHz and single-channel(mono)\n",
    "    \"\"\"\n",
    "    dict_emotions_ravdess = {\n",
    "        0: 'Neutral',\n",
    "        1: 'Calm',\n",
    "        2: 'Happy',\n",
    "        3: 'Sad',\n",
    "        4: 'Angry',\n",
    "        5: 'Fear',\n",
    "        6: 'Disgust',\n",
    "        7: 'Surprise'\n",
    "    }\n",
    "    \n",
    "    wav_paths, emotions, names = [], [], []\n",
    "    for path in tqdm(Path(path_audios).glob(\"*/*.wav\")):\n",
    "        name = str(path).split('/')[-1].split('.')[0]\n",
    "        actor = int(name.split(\"-\")[-1])\n",
    "        label = int(name.split(\"-\")[2]) - 1  # Start emotions in 0\n",
    "\n",
    "        try:\n",
    "            wav_paths.append(path)\n",
    "            emotions.append(label)\n",
    "            names.append(actor)\n",
    "        except Exception as e:\n",
    "            # print(str(path), e)\n",
    "            pass\n",
    "        \n",
    "    return wav_paths, emotions, names"
   ]
  },
  {
   "cell_type": "code",
   "execution_count": 2,
   "id": "d8f516be",
   "metadata": {},
   "outputs": [
    {
     "name": "stderr",
     "output_type": "stream",
     "text": [
      "1440it [00:00, 65454.32it/s]\n"
     ]
    }
   ],
   "source": [
    "import numpy as np\n",
    "import csv\n",
    "\n",
    "wav_paths, emotions, names = prepare_RAVDESS_DS('dataset')\n",
    "wav_paths = np.asarray(wav_paths)"
   ]
  },
  {
   "cell_type": "code",
   "execution_count": 3,
   "id": "af711a91",
   "metadata": {},
   "outputs": [],
   "source": [
    "import pandas as pd\n",
    "import natsort\n",
    "\n",
    "def make_df(image_path):\n",
    "    images = os.listdir(image_path)\n",
    "    images = natsort.natsorted(images)\n",
    "    \n",
    "    paths = []\n",
    "    for img in images:\n",
    "        p = os.path.join(image_path, img)\n",
    "        paths.append(p)\n",
    "    \n",
    "    data = []\n",
    "    for i in range(len(wav_paths)):\n",
    "        data.append({\n",
    "            \"path\": paths[i],\n",
    "            \"emotion\": emotions[i],\n",
    "            \"actor\": names[i]\n",
    "        })\n",
    "        \n",
    "    df = pd.DataFrame(data)\n",
    "    \n",
    "    return df"
   ]
  },
  {
   "cell_type": "code",
   "execution_count": 5,
   "id": "5af975e7",
   "metadata": {},
   "outputs": [],
   "source": [
    "import os\n",
    "actors_per_fold = {\n",
    "    0: [2,5,14,15,16],\n",
    "    1: [3, 6, 7, 13, 18],\n",
    "    2: [10, 11, 12, 19, 20],\n",
    "    3: [8, 17, 21, 23, 24],\n",
    "    4: [1, 4, 9, 22],\n",
    "}\n",
    "\n",
    "save_roots = ['chroma_stft', 'spectral_contrast', 'tonnetz', 'mfcc']\n",
    "\n",
    "for save_root in save_roots:\n",
    "    save_path = save_root + '_fold'\n",
    "    save_root += '_images'\n",
    "    os.makedirs(save_root, exist_ok=True)\n",
    "    \n",
    "    df = make_df(save_root)\n",
    "    \n",
    "    for i in range(5):\n",
    "        test_df = df.loc[df['actor'].isin(actors_per_fold[i])]\n",
    "        train_df = df.loc[~df['actor'].isin(actors_per_fold[i])]\n",
    "    \n",
    "        train_df = train_df.reset_index(drop=True)\n",
    "        test_df = test_df.reset_index(drop=True)\n",
    "    \n",
    "        fold_path = os.path.join(save_path, str(i))\n",
    "        os.makedirs(fold_path, exist_ok=True)\n",
    "    \n",
    "        train_df.to_csv(f'{fold_path}/train.csv', sep=',', encoding='utf-8', index=False, header=False)\n",
    "        test_df.to_csv(f'{fold_path}/test.csv', sep=',', encoding='utf-8', index=False, header=False)"
   ]
  },
  {
   "cell_type": "code",
   "execution_count": null,
   "id": "eaeaaf06",
   "metadata": {},
   "outputs": [],
   "source": []
  }
 ],
 "metadata": {
  "kernelspec": {
   "display_name": "Python 3 (ipykernel)",
   "language": "python",
   "name": "python3"
  },
  "language_info": {
   "codemirror_mode": {
    "name": "ipython",
    "version": 3
   },
   "file_extension": ".py",
   "mimetype": "text/x-python",
   "name": "python",
   "nbconvert_exporter": "python",
   "pygments_lexer": "ipython3",
   "version": "3.8.13"
  }
 },
 "nbformat": 4,
 "nbformat_minor": 5
}
